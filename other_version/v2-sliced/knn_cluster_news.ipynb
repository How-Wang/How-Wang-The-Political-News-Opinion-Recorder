{
 "cells": [
  {
   "cell_type": "markdown",
   "metadata": {
    "id": "VXIeTQ4HTK9T"
   },
   "source": [
    "# V0 KNN新聞分群\n",
    "2. "
   ]
  },
  {
   "cell_type": "code",
   "execution_count": 1,
   "metadata": {
    "colab": {
     "base_uri": "https://localhost:8080/"
    },
    "executionInfo": {
     "elapsed": 2998,
     "status": "ok",
     "timestamp": 1646481231836,
     "user": {
      "displayName": "F74082141王 浩",
      "photoUrl": "https://lh3.googleusercontent.com/a-/AOh14GhCsFx3dQEzYAcFs18YPMtij1s5AlclOQnHVzCW=s64",
      "userId": "09796250435249092023"
     },
     "user_tz": -480
    },
    "id": "tjpanjpOV_NJ",
    "outputId": "80c4b226-5091-4c68-d54d-f3a6ad0530e2"
   },
   "outputs": [],
   "source": [
    "import pandas as pd\n",
    "import ast\n",
    "from tqdm import trange\n",
    "# from bertopic import BERTopic\n",
    "from sentence_transformers import SentenceTransformer, util\n",
    "from sklearn.cluster import KMeans\n",
    "from sklearn.metrics import pairwise_distances_argmin_min, silhouette_score\n",
    "import matplotlib.pyplot as plt\n",
    "# from google.cloud import bigquery\n",
    "# from google.cloud.exceptions import NotFound\n",
    "import pandas as pd"
   ]
  },
  {
   "cell_type": "markdown",
   "metadata": {
    "id": "g8ReZ4L9WAs7"
   },
   "source": [
    "## 載檔"
   ]
  },
  {
   "cell_type": "code",
   "execution_count": 2,
   "metadata": {},
   "outputs": [],
   "source": [
    "file_full_name = \"v0_Total_Opinion.csv\"\n",
    "# file_output_name = file_full_name.split(\".csv\")[0]\n",
    "\n",
    "news_df = pd.read_csv(file_full_name)\n",
    "# all_output_file = \"./v0\" + file_output_name + \"_result.csv\"\n",
    "# opinion_after_cluster_file = \"./v0\" + file_output_name + \"_all_opinions_after_cluster.csv\"\n",
    "all_output_file = \"v0_Total_Opinion.csv\"\n",
    "opinion_after_cluster_file = \"v0_cluster_opinions.csv\"\n",
    "topic_info_file = \"v0_topic_info.csv\""
   ]
  },
  {
   "cell_type": "code",
   "execution_count": 3,
   "metadata": {},
   "outputs": [
    {
     "data": {
      "text/html": [
       "<div>\n",
       "<style scoped>\n",
       "    .dataframe tbody tr th:only-of-type {\n",
       "        vertical-align: middle;\n",
       "    }\n",
       "\n",
       "    .dataframe tbody tr th {\n",
       "        vertical-align: top;\n",
       "    }\n",
       "\n",
       "    .dataframe thead th {\n",
       "        text-align: right;\n",
       "    }\n",
       "</style>\n",
       "<table border=\"1\" class=\"dataframe\">\n",
       "  <thead>\n",
       "    <tr style=\"text-align: right;\">\n",
       "      <th></th>\n",
       "      <th>id</th>\n",
       "      <th>article</th>\n",
       "      <th>category</th>\n",
       "      <th>company_id</th>\n",
       "      <th>reporter</th>\n",
       "      <th>timestamp</th>\n",
       "      <th>title</th>\n",
       "      <th>url_pattern</th>\n",
       "      <th>label</th>\n",
       "      <th>annotator</th>\n",
       "      <th>annotation_id</th>\n",
       "      <th>created_at</th>\n",
       "      <th>updated_at</th>\n",
       "      <th>lead_time</th>\n",
       "      <th>article_coref</th>\n",
       "      <th>people_name</th>\n",
       "      <th>ner</th>\n",
       "      <th>topic</th>\n",
       "      <th>representative_docs</th>\n",
       "    </tr>\n",
       "  </thead>\n",
       "  <tbody>\n",
       "    <tr>\n",
       "      <th>0</th>\n",
       "      <td>883</td>\n",
       "      <td>針對行政院長蘇貞昌、國民黨立委鄭麗文12日在立法院發生激烈爭執,兼任民進黨主席的總統蔡英文1...</td>\n",
       "      <td>政治</td>\n",
       "      <td>3</td>\n",
       "      <td>陶本和</td>\n",
       "      <td>1634110500</td>\n",
       "      <td>蔡英文發聲挺蘇貞昌 批鄭麗文情緒性發言對當事人不公</td>\n",
       "      <td>2100273</td>\n",
       "      <td>[{\"start\": 0, \"end\": 142, \"text\": \"針對行政院長蘇貞昌、國...</td>\n",
       "      <td>1</td>\n",
       "      <td>37</td>\n",
       "      <td>2022-02-03T14:55:55.310663Z</td>\n",
       "      <td>2022-02-03T15:02:18.598120Z</td>\n",
       "      <td>518.272</td>\n",
       "      <td>針對行政院長蘇貞昌、國民黨立委鄭麗文12日在立法院發生激烈爭執,兼任民進黨主席的總統蔡英文1...</td>\n",
       "      <td>['蘇貞昌', '民進黨', '蔡英文', '台灣人民', '立法院', '鄭麗文', '國...</td>\n",
       "      <td>['一', '國慶日', '蘇貞昌', '台灣', '民進黨', '12日', '這幾天',...</td>\n",
       "      <td>0</td>\n",
       "      <td>0</td>\n",
       "    </tr>\n",
       "  </tbody>\n",
       "</table>\n",
       "</div>"
      ],
      "text/plain": [
       "    id                                            article category  \\\n",
       "0  883  針對行政院長蘇貞昌、國民黨立委鄭麗文12日在立法院發生激烈爭執,兼任民進黨主席的總統蔡英文1...       政治   \n",
       "\n",
       "   company_id reporter   timestamp                      title  url_pattern  \\\n",
       "0           3      陶本和  1634110500  蔡英文發聲挺蘇貞昌 批鄭麗文情緒性發言對當事人不公      2100273   \n",
       "\n",
       "                                               label  annotator  \\\n",
       "0  [{\"start\": 0, \"end\": 142, \"text\": \"針對行政院長蘇貞昌、國...          1   \n",
       "\n",
       "   annotation_id                   created_at                   updated_at  \\\n",
       "0             37  2022-02-03T14:55:55.310663Z  2022-02-03T15:02:18.598120Z   \n",
       "\n",
       "   lead_time                                      article_coref  \\\n",
       "0    518.272  針對行政院長蘇貞昌、國民黨立委鄭麗文12日在立法院發生激烈爭執,兼任民進黨主席的總統蔡英文1...   \n",
       "\n",
       "                                         people_name  \\\n",
       "0  ['蘇貞昌', '民進黨', '蔡英文', '台灣人民', '立法院', '鄭麗文', '國...   \n",
       "\n",
       "                                                 ner  topic  \\\n",
       "0  ['一', '國慶日', '蘇貞昌', '台灣', '民進黨', '12日', '這幾天',...      0   \n",
       "\n",
       "   representative_docs  \n",
       "0                    0  "
      ]
     },
     "execution_count": 3,
     "metadata": {},
     "output_type": "execute_result"
    }
   ],
   "source": [
    "news_df.head(1)"
   ]
  },
  {
   "cell_type": "markdown",
   "metadata": {
    "id": "pv6hXUz-EjfT"
   },
   "source": [
    "#### 輸入 ckip 帳號密碼"
   ]
  },
  {
   "cell_type": "code",
   "execution_count": 4,
   "metadata": {
    "executionInfo": {
     "elapsed": 261,
     "status": "ok",
     "timestamp": 1646481252978,
     "user": {
      "displayName": "F74082141王 浩",
      "photoUrl": "https://lh3.googleusercontent.com/a-/AOh14GhCsFx3dQEzYAcFs18YPMtij1s5AlclOQnHVzCW=s64",
      "userId": "09796250435249092023"
     },
     "user_tz": -480
    },
    "id": "C0ohCMj1FI4z"
   },
   "outputs": [
    {
     "name": "stderr",
     "output_type": "stream",
     "text": [
      "WARNING:root:No sentence-transformers model found with name C:\\Users\\User/.cache\\torch\\sentence_transformers\\ckiplab_bert-base-chinese. Creating a new one with MEAN pooling.\n",
      "Some weights of the model checkpoint at C:\\Users\\User/.cache\\torch\\sentence_transformers\\ckiplab_bert-base-chinese were not used when initializing BertModel: ['cls.predictions.transform.LayerNorm.weight', 'cls.predictions.decoder.bias', 'cls.predictions.transform.LayerNorm.bias', 'cls.predictions.transform.dense.weight', 'cls.predictions.bias', 'cls.predictions.transform.dense.bias', 'cls.predictions.decoder.weight']\n",
      "- This IS expected if you are initializing BertModel from the checkpoint of a model trained on another task or with another architecture (e.g. initializing a BertForSequenceClassification model from a BertForPreTraining model).\n",
      "- This IS NOT expected if you are initializing BertModel from the checkpoint of a model that you expect to be exactly identical (initializing a BertForSequenceClassification model from a BertForSequenceClassification model).\n",
      "Some weights of BertModel were not initialized from the model checkpoint at C:\\Users\\User/.cache\\torch\\sentence_transformers\\ckiplab_bert-base-chinese and are newly initialized: ['bert.pooler.dense.bias', 'bert.pooler.dense.weight']\n",
      "You should probably TRAIN this model on a down-stream task to be able to use it for predictions and inference.\n"
     ]
    }
   ],
   "source": [
    "embedder = SentenceTransformer('ckiplab/bert-base-chinese')"
   ]
  },
  {
   "cell_type": "markdown",
   "metadata": {},
   "source": [
    "## 2. 新聞分群"
   ]
  },
  {
   "cell_type": "code",
   "execution_count": 5,
   "metadata": {},
   "outputs": [],
   "source": [
    "def cluster_article(article_list):\n",
    "    corpus_embeddings = embedder.encode(article_list)  \n",
    "    # Find out the best score\n",
    "    sil_coeff_list = []\n",
    "    least_cluster_num = int(len(corpus_embeddings)/25)\n",
    "    max_cluster_num = int(len(corpus_embeddings)/10)\n",
    "\n",
    "    for n_cluster in trange(least_cluster_num,max_cluster_num):\n",
    "        clustering_model = KMeans(n_clusters=n_cluster).fit(corpus_embeddings)\n",
    "        label = clustering_model.labels_\n",
    "        sil_coeff = silhouette_score(corpus_embeddings, label, metric='euclidean')\n",
    "        sil_coeff_list.append(sil_coeff)\n",
    "\n",
    "    # print('len corpus',len(article_list))\n",
    "    # print('max index in coeff list',sil_coeff_list.index(max(sil_coeff_list)))\n",
    "\n",
    "    # Get best clusters\n",
    "    num_clusters = sil_coeff_list.index(max(sil_coeff_list)) + least_cluster_num\n",
    "    plt.plot(range(least_cluster_num,max_cluster_num), sil_coeff_list)\n",
    "    print(\"best clusters num: \",num_clusters)\n",
    "\n",
    "    # Perform k-means clustering\n",
    "    clustering_model = KMeans(n_clusters=num_clusters)\n",
    "    clustering_model.fit(corpus_embeddings)\n",
    "    cluster_label_list = clustering_model.labels_\n",
    "    print(cluster_label_list)\n",
    "\n",
    "    # Find the closet sentence in every cluster to represent group meaning\n",
    "    closest_index_list, _ = pairwise_distances_argmin_min(clustering_model.cluster_centers_, corpus_embeddings)\n",
    "    print(\"closest_index_list: \",closest_index_list)\n",
    "    print('need to be diff')\n",
    "    for i in closest_index_list:\n",
    "        print(cluster_label_list[i])\n",
    "    return cluster_label_list, closest_index_list\n"
   ]
  },
  {
   "cell_type": "markdown",
   "metadata": {},
   "source": [
    "## 5. 開始實作"
   ]
  },
  {
   "cell_type": "markdown",
   "metadata": {},
   "source": [
    "### 2."
   ]
  },
  {
   "cell_type": "code",
   "execution_count": 6,
   "metadata": {},
   "outputs": [
    {
     "name": "stderr",
     "output_type": "stream",
     "text": [
      "100%|██████████| 6/6 [00:00<00:00, 11.32it/s]"
     ]
    },
    {
     "name": "stdout",
     "output_type": "stream",
     "text": [
      "best clusters num:  4\n",
      "[2 0 0 1 2 3 1 1 3 2 0 3 0 2 2 3 3 2 2 2 2 0 1 0 2 0 0 2 0 0 0 2 2 0 1 0 1\n",
      " 0 1 2 1 3 1 2 0 1 3 2 2 2 3 2 2 0 2 0 1 1 2 3 0 3 3 1 3 2 0 3 2 0 3 0 0 1\n",
      " 1 1 0 2 0 2 2 0 3 3 2 0 3 2 0 2 3 1 1 1 1 2 0 2 0 0]\n",
      "closest_index_list:  [33 75 39 90]\n",
      "need to be diff\n",
      "0\n",
      "1\n",
      "2\n",
      "3\n"
     ]
    },
    {
     "name": "stderr",
     "output_type": "stream",
     "text": [
      "\n",
      "C:\\Users\\User\\AppData\\Local\\Programs\\Python\\Python38\\lib\\site-packages\\pandas\\core\\indexing.py:1637: SettingWithCopyWarning: \n",
      "A value is trying to be set on a copy of a slice from a DataFrame\n",
      "\n",
      "See the caveats in the documentation: https://pandas.pydata.org/pandas-docs/stable/user_guide/indexing.html#returning-a-view-versus-a-copy\n",
      "  self._setitem_single_block(indexer, value, name)\n"
     ]
    },
    {
     "data": {
      "image/png": "[encoded data removed]",
      "text/plain": [
       "<Figure size 432x288 with 1 Axes>"
      ]
     },
     "metadata": {
      "needs_background": "light"
     },
     "output_type": "display_data"
    }
   ],
   "source": [
    "topics, representative_docs_dict = cluster_article(news_df['article'])\n",
    "\n",
    "news_df['topic'] = topics\n",
    "news_df['representative_docs'] = \"\"\n",
    "news_df['representative_docs'].values[:] = 0\n",
    "\n",
    "# print(representative_docs_dict)\n",
    "\n",
    "for topics_index in representative_docs_dict:\n",
    "    news_df['representative_docs'].iloc[topics_index] = 1\n",
    "  "
   ]
  },
  {
   "cell_type": "code",
   "execution_count": null,
   "metadata": {},
   "outputs": [],
   "source": []
  },
  {
   "cell_type": "code",
   "execution_count": 7,
   "metadata": {},
   "outputs": [
    {
     "data": {
      "text/html": [
       "<div>\n",
       "<style scoped>\n",
       "    .dataframe tbody tr th:only-of-type {\n",
       "        vertical-align: middle;\n",
       "    }\n",
       "\n",
       "    .dataframe tbody tr th {\n",
       "        vertical-align: top;\n",
       "    }\n",
       "\n",
       "    .dataframe thead th {\n",
       "        text-align: right;\n",
       "    }\n",
       "</style>\n",
       "<table border=\"1\" class=\"dataframe\">\n",
       "  <thead>\n",
       "    <tr style=\"text-align: right;\">\n",
       "      <th></th>\n",
       "      <th>id</th>\n",
       "      <th>article</th>\n",
       "      <th>category</th>\n",
       "      <th>company_id</th>\n",
       "      <th>reporter</th>\n",
       "      <th>timestamp</th>\n",
       "      <th>title</th>\n",
       "      <th>url_pattern</th>\n",
       "      <th>label</th>\n",
       "      <th>annotator</th>\n",
       "      <th>annotation_id</th>\n",
       "      <th>created_at</th>\n",
       "      <th>updated_at</th>\n",
       "      <th>lead_time</th>\n",
       "      <th>article_coref</th>\n",
       "      <th>people_name</th>\n",
       "      <th>ner</th>\n",
       "      <th>topic</th>\n",
       "      <th>representative_docs</th>\n",
       "    </tr>\n",
       "  </thead>\n",
       "  <tbody>\n",
       "    <tr>\n",
       "      <th>99</th>\n",
       "      <td>855</td>\n",
       "      <td>行政院長蘇貞昌昨(12日)在立法院會備詢時,用台語怒罵國民黨立委鄭麗文「不要臉」,引發藍營怒...</td>\n",
       "      <td>政治</td>\n",
       "      <td>3</td>\n",
       "      <td>楊蕓</td>\n",
       "      <td>1634091120</td>\n",
       "      <td>張亞中批蘇貞昌嗆鄭麗文不要臉 「歷任最失格的行政院長」</td>\n",
       "      <td>2100005</td>\n",
       "      <td>[{\"start\": 0, \"end\": 48, \"text\": \"行政院長蘇貞昌昨(12日...</td>\n",
       "      <td>1</td>\n",
       "      <td>9</td>\n",
       "      <td>2022-02-03T05:27:35.471495Z</td>\n",
       "      <td>2022-02-03T05:27:35.471520Z</td>\n",
       "      <td>303.946</td>\n",
       "      <td>行政院長蘇貞昌昨(12日)在立法院會備詢時,用台語怒罵國民黨立委鄭麗文「不要臉」,引發藍營怒...</td>\n",
       "      <td>['朱子', '行政院長', '國民黨', '蘇貞昌', '張亞中', '蔡英文', '民進...</td>\n",
       "      <td>['朱子', '行政院長', '國民黨', '立法院會', '蘇貞昌', '行政院', '張...</td>\n",
       "      <td>0</td>\n",
       "      <td>0</td>\n",
       "    </tr>\n",
       "  </tbody>\n",
       "</table>\n",
       "</div>"
      ],
      "text/plain": [
       "     id                                            article category  \\\n",
       "99  855  行政院長蘇貞昌昨(12日)在立法院會備詢時,用台語怒罵國民黨立委鄭麗文「不要臉」,引發藍營怒...       政治   \n",
       "\n",
       "    company_id reporter   timestamp                        title  url_pattern  \\\n",
       "99           3       楊蕓  1634091120  張亞中批蘇貞昌嗆鄭麗文不要臉 「歷任最失格的行政院長」      2100005   \n",
       "\n",
       "                                                label  annotator  \\\n",
       "99  [{\"start\": 0, \"end\": 48, \"text\": \"行政院長蘇貞昌昨(12日...          1   \n",
       "\n",
       "    annotation_id                   created_at                   updated_at  \\\n",
       "99              9  2022-02-03T05:27:35.471495Z  2022-02-03T05:27:35.471520Z   \n",
       "\n",
       "    lead_time                                      article_coref  \\\n",
       "99    303.946  行政院長蘇貞昌昨(12日)在立法院會備詢時,用台語怒罵國民黨立委鄭麗文「不要臉」,引發藍營怒...   \n",
       "\n",
       "                                          people_name  \\\n",
       "99  ['朱子', '行政院長', '國民黨', '蘇貞昌', '張亞中', '蔡英文', '民進...   \n",
       "\n",
       "                                                  ner  topic  \\\n",
       "99  ['朱子', '行政院長', '國民黨', '立法院會', '蘇貞昌', '行政院', '張...      0   \n",
       "\n",
       "   representative_docs  \n",
       "99                   0  "
      ]
     },
     "execution_count": 7,
     "metadata": {},
     "output_type": "execute_result"
    }
   ],
   "source": [
    "news_df.tail(1)"
   ]
  },
  {
   "cell_type": "code",
   "execution_count": 8,
   "metadata": {},
   "outputs": [],
   "source": [
    "topic_index = []\n",
    "topic_article_index = []\n",
    "topic_ner_dic = []\n",
    "\n",
    "for i in range(max(topics)+1):\n",
    "    topic_index.append(i)\n",
    "    topic_article_index.append([])\n",
    "    topic_ner_dic.append({})\n",
    "# print(topic_ner_dic)\n",
    "# print(max(topics))\n",
    "# print(len(topic_ner_dic))\n",
    "\n",
    "for i in range(len(news_df)):\n",
    "    news_ner_list = ast.literal_eval(news_df.iloc[i]['ner'])\n",
    "    for ner_name in news_ner_list:\n",
    "        if ner_name in topic_ner_dic[news_df.iloc[i]['topic']].keys():\n",
    "            topic_ner_dic[news_df.iloc[i]['topic']][ner_name] += 1\n",
    "        else:\n",
    "            topic_ner_dic[news_df.iloc[i]['topic']][ner_name] = 0\n",
    "    topic_article_index[news_df.iloc[i]['topic']].append(i)"
   ]
  },
  {
   "cell_type": "code",
   "execution_count": 9,
   "metadata": {},
   "outputs": [],
   "source": [
    "topic_info_df = pd.DataFrame(list(zip(topic_index,representative_docs_dict,topic_ner_dic)),columns=['topic_index','topic_represent_article','topic_ner_dic'])"
   ]
  },
  {
   "cell_type": "code",
   "execution_count": 10,
   "metadata": {},
   "outputs": [
    {
     "data": {
      "text/html": [
       "<div>\n",
       "<style scoped>\n",
       "    .dataframe tbody tr th:only-of-type {\n",
       "        vertical-align: middle;\n",
       "    }\n",
       "\n",
       "    .dataframe tbody tr th {\n",
       "        vertical-align: top;\n",
       "    }\n",
       "\n",
       "    .dataframe thead th {\n",
       "        text-align: right;\n",
       "    }\n",
       "</style>\n",
       "<table border=\"1\" class=\"dataframe\">\n",
       "  <thead>\n",
       "    <tr style=\"text-align: right;\">\n",
       "      <th></th>\n",
       "      <th>topic_index</th>\n",
       "      <th>topic_represent_article</th>\n",
       "      <th>topic_ner_dic</th>\n",
       "    </tr>\n",
       "  </thead>\n",
       "  <tbody>\n",
       "    <tr>\n",
       "      <th>0</th>\n",
       "      <td>0</td>\n",
       "      <td>33</td>\n",
       "      <td>{'鄭先': 0, '台灣': 67, '袂見': 5, '鄭麗文': 137, '陳明文'...</td>\n",
       "    </tr>\n",
       "    <tr>\n",
       "      <th>1</th>\n",
       "      <td>1</td>\n",
       "      <td>75</td>\n",
       "      <td>{'一': 4, '民進黨': 9, '丁特': 2, '時代力量': 0, '主丁特': ...</td>\n",
       "    </tr>\n",
       "    <tr>\n",
       "      <th>2</th>\n",
       "      <td>2</td>\n",
       "      <td>39</td>\n",
       "      <td>{'一': 35, '國慶日': 5, '蘇貞昌': 17, '台灣': 129, '民進黨...</td>\n",
       "    </tr>\n",
       "    <tr>\n",
       "      <th>3</th>\n",
       "      <td>3</td>\n",
       "      <td>90</td>\n",
       "      <td>{'台': 1, '蘇貞昌': 11, '第一': 16, '第二': 14, '五': 2...</td>\n",
       "    </tr>\n",
       "  </tbody>\n",
       "</table>\n",
       "</div>"
      ],
      "text/plain": [
       "   topic_index  topic_represent_article  \\\n",
       "0            0                       33   \n",
       "1            1                       75   \n",
       "2            2                       39   \n",
       "3            3                       90   \n",
       "\n",
       "                                       topic_ner_dic  \n",
       "0  {'鄭先': 0, '台灣': 67, '袂見': 5, '鄭麗文': 137, '陳明文'...  \n",
       "1  {'一': 4, '民進黨': 9, '丁特': 2, '時代力量': 0, '主丁特': ...  \n",
       "2  {'一': 35, '國慶日': 5, '蘇貞昌': 17, '台灣': 129, '民進黨...  \n",
       "3  {'台': 1, '蘇貞昌': 11, '第一': 16, '第二': 14, '五': 2...  "
      ]
     },
     "execution_count": 10,
     "metadata": {},
     "output_type": "execute_result"
    }
   ],
   "source": [
    "topic_info_df.head(10)"
   ]
  },
  {
   "cell_type": "code",
   "execution_count": 11,
   "metadata": {},
   "outputs": [],
   "source": [
    "topic_info_df.to_csv(topic_info_file,index=False)"
   ]
  },
  {
   "cell_type": "code",
   "execution_count": 12,
   "metadata": {},
   "outputs": [],
   "source": [
    "news_df.to_csv(all_output_file, index=False)"
   ]
  }
 ],
 "metadata": {
  "interpreter": {
   "hash": "5c0372ed38b372118c24adb00d45654d76c8d10261533c5724e3f5fc1d75489a"
  },
  "kernelspec": {
   "display_name": "Python 3.8.8 64-bit",
   "language": "python",
   "name": "python3"
  },
  "language_info": {
   "codemirror_mode": {
    "name": "ipython",
    "version": 3
   },
   "file_extension": ".py",
   "mimetype": "text/x-python",
   "name": "python",
   "nbconvert_exporter": "python",
   "pygments_lexer": "ipython3",
   "version": "3.8.8"
  },
  "orig_nbformat": 4
 },
 "nbformat": 4,
 "nbformat_minor": 2
}
