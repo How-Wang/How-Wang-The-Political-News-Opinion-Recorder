{
 "cells": [
  {
   "cell_type": "markdown",
   "metadata": {
    "id": "VXIeTQ4HTK9T"
   },
   "source": [
    "# V0 使用 K-means 分群、cosine-similarity 判斷相似性\n",
    "4. "
   ]
  },
  {
   "cell_type": "code",
   "execution_count": 1,
   "metadata": {
    "colab": {
     "base_uri": "https://localhost:8080/"
    },
    "executionInfo": {
     "elapsed": 2998,
     "status": "ok",
     "timestamp": 1646481231836,
     "user": {
      "displayName": "F74082141王 浩",
      "photoUrl": "https://lh3.googleusercontent.com/a-/AOh14GhCsFx3dQEzYAcFs18YPMtij1s5AlclOQnHVzCW=s64",
      "userId": "09796250435249092023"
     },
     "user_tz": -480
    },
    "id": "tjpanjpOV_NJ",
    "outputId": "80c4b226-5091-4c68-d54d-f3a6ad0530e2"
   },
   "outputs": [],
   "source": [
    "import pandas as pd\n",
    "from tqdm import trange\n",
    "import ast\n",
    "from sentence_transformers import SentenceTransformer, util\n",
    "from sklearn.cluster import KMeans\n",
    "from sklearn.metrics import pairwise_distances_argmin_min, silhouette_score\n",
    "import matplotlib.pyplot as plt\n",
    "\n",
    "# from google.cloud import bigquery\n",
    "# from google.cloud.exceptions import NotFound\n",
    "import pandas as pd"
   ]
  },
  {
   "cell_type": "markdown",
   "metadata": {
    "id": "g8ReZ4L9WAs7"
   },
   "source": [
    "## 載檔"
   ]
  },
  {
   "cell_type": "code",
   "execution_count": 3,
   "metadata": {},
   "outputs": [],
   "source": [
    "file_full_name = \"v1_Total_Opinion.csv\"\n",
    "# file_output_name = file_full_name.split(\".csv\")[0]\n",
    "\n",
    "news_df = pd.read_csv(file_full_name)\n",
    "# all_output_file = \"./v0\" + file_output_name + \"_result.csv\"\n",
    "# opinion_after_cluster_file = \"./v0\" + file_output_name + \"_all_opinions_after_cluster.csv\"\n",
    "all_output_file = \"v1_Total_Opinion.csv\"\n",
    "opinion_after_cluster_file = \"v1_cluster_opinions.csv\""
   ]
  },
  {
   "cell_type": "code",
   "execution_count": 4,
   "metadata": {},
   "outputs": [],
   "source": [
    "# news_df = pd.read_csv(all_output_file)"
   ]
  },
  {
   "cell_type": "code",
   "execution_count": 5,
   "metadata": {},
   "outputs": [],
   "source": [
    "# print(type(opinion_after_cluster_file))"
   ]
  },
  {
   "cell_type": "code",
   "execution_count": 6,
   "metadata": {},
   "outputs": [
    {
     "data": {
      "text/html": [
       "<div>\n",
       "<style scoped>\n",
       "    .dataframe tbody tr th:only-of-type {\n",
       "        vertical-align: middle;\n",
       "    }\n",
       "\n",
       "    .dataframe tbody tr th {\n",
       "        vertical-align: top;\n",
       "    }\n",
       "\n",
       "    .dataframe thead th {\n",
       "        text-align: right;\n",
       "    }\n",
       "</style>\n",
       "<table border=\"1\" class=\"dataframe\">\n",
       "  <thead>\n",
       "    <tr style=\"text-align: right;\">\n",
       "      <th></th>\n",
       "      <th>id</th>\n",
       "      <th>article</th>\n",
       "      <th>category</th>\n",
       "      <th>company_id</th>\n",
       "      <th>reporter</th>\n",
       "      <th>timestamp</th>\n",
       "      <th>title</th>\n",
       "      <th>url_pattern</th>\n",
       "      <th>label</th>\n",
       "      <th>annotator</th>\n",
       "      <th>annotation_id</th>\n",
       "      <th>created_at</th>\n",
       "      <th>updated_at</th>\n",
       "      <th>lead_time</th>\n",
       "      <th>article_coref</th>\n",
       "      <th>people_name</th>\n",
       "      <th>ner</th>\n",
       "      <th>one_to_one_pair</th>\n",
       "      <th>one_to_one_pair_count</th>\n",
       "      <th>opinions_list</th>\n",
       "    </tr>\n",
       "  </thead>\n",
       "  <tbody>\n",
       "    <tr>\n",
       "      <th>0</th>\n",
       "      <td>883</td>\n",
       "      <td>針對行政院長蘇貞昌、國民黨立委鄭麗文12日在立法院發生激烈爭執,兼任民進黨主席的總統蔡英文1...</td>\n",
       "      <td>政治</td>\n",
       "      <td>3</td>\n",
       "      <td>陶本和</td>\n",
       "      <td>1634110500</td>\n",
       "      <td>蔡英文發聲挺蘇貞昌 批鄭麗文情緒性發言對當事人不公</td>\n",
       "      <td>2100273</td>\n",
       "      <td>[{\"start\": 0, \"end\": 142, \"text\": \"針對行政院長蘇貞昌、國...</td>\n",
       "      <td>1</td>\n",
       "      <td>37</td>\n",
       "      <td>2022-02-03T14:55:55.310663Z</td>\n",
       "      <td>2022-02-03T15:02:18.598120Z</td>\n",
       "      <td>518.272</td>\n",
       "      <td>針對行政院長蘇貞昌、國民黨立委鄭麗文12日在立法院發生激烈爭執,兼任民進黨主席的總統蔡英文1...</td>\n",
       "      <td>['蔡英文', '行政院長', '鄭麗文', '民進黨', '蘇貞昌', '台灣人民', '...</td>\n",
       "      <td>['蔡英文', '行政院長', '12日', '鄭麗文', '台灣', '民進黨', '蘇貞...</td>\n",
       "      <td>[[{'start': 134, 'end': 138, 'text': '台灣人民', '...</td>\n",
       "      <td>9</td>\n",
       "      <td>[[[{'start': 142, 'end': 145, 'text': '蔡英文', '...</td>\n",
       "    </tr>\n",
       "  </tbody>\n",
       "</table>\n",
       "</div>"
      ],
      "text/plain": [
       "    id                                            article category  \\\n",
       "0  883  針對行政院長蘇貞昌、國民黨立委鄭麗文12日在立法院發生激烈爭執,兼任民進黨主席的總統蔡英文1...       政治   \n",
       "\n",
       "   company_id reporter   timestamp                      title  url_pattern  \\\n",
       "0           3      陶本和  1634110500  蔡英文發聲挺蘇貞昌 批鄭麗文情緒性發言對當事人不公      2100273   \n",
       "\n",
       "                                               label  annotator  \\\n",
       "0  [{\"start\": 0, \"end\": 142, \"text\": \"針對行政院長蘇貞昌、國...          1   \n",
       "\n",
       "   annotation_id                   created_at                   updated_at  \\\n",
       "0             37  2022-02-03T14:55:55.310663Z  2022-02-03T15:02:18.598120Z   \n",
       "\n",
       "   lead_time                                      article_coref  \\\n",
       "0    518.272  針對行政院長蘇貞昌、國民黨立委鄭麗文12日在立法院發生激烈爭執,兼任民進黨主席的總統蔡英文1...   \n",
       "\n",
       "                                         people_name  \\\n",
       "0  ['蔡英文', '行政院長', '鄭麗文', '民進黨', '蘇貞昌', '台灣人民', '...   \n",
       "\n",
       "                                                 ner  \\\n",
       "0  ['蔡英文', '行政院長', '12日', '鄭麗文', '台灣', '民進黨', '蘇貞...   \n",
       "\n",
       "                                     one_to_one_pair  one_to_one_pair_count  \\\n",
       "0  [[{'start': 134, 'end': 138, 'text': '台灣人民', '...                      9   \n",
       "\n",
       "                                       opinions_list  \n",
       "0  [[[{'start': 142, 'end': 145, 'text': '蔡英文', '...  "
      ]
     },
     "execution_count": 6,
     "metadata": {},
     "output_type": "execute_result"
    }
   ],
   "source": [
    "news_df.head(1)"
   ]
  },
  {
   "cell_type": "markdown",
   "metadata": {
    "id": "pv6hXUz-EjfT"
   },
   "source": [
    "#### 輸入 ckip 帳號密碼"
   ]
  },
  {
   "cell_type": "code",
   "execution_count": 7,
   "metadata": {},
   "outputs": [
    {
     "name": "stderr",
     "output_type": "stream",
     "text": [
      "WARNING:root:No sentence-transformers model found with name C:\\Users\\User/.cache\\torch\\sentence_transformers\\ckiplab_bert-base-chinese. Creating a new one with MEAN pooling.\n",
      "Some weights of the model checkpoint at C:\\Users\\User/.cache\\torch\\sentence_transformers\\ckiplab_bert-base-chinese were not used when initializing BertModel: ['cls.predictions.bias', 'cls.predictions.decoder.weight', 'cls.predictions.transform.LayerNorm.weight', 'cls.predictions.transform.dense.weight', 'cls.predictions.transform.dense.bias', 'cls.predictions.transform.LayerNorm.bias', 'cls.predictions.decoder.bias']\n",
      "- This IS expected if you are initializing BertModel from the checkpoint of a model trained on another task or with another architecture (e.g. initializing a BertForSequenceClassification model from a BertForPreTraining model).\n",
      "- This IS NOT expected if you are initializing BertModel from the checkpoint of a model that you expect to be exactly identical (initializing a BertForSequenceClassification model from a BertForSequenceClassification model).\n",
      "Some weights of BertModel were not initialized from the model checkpoint at C:\\Users\\User/.cache\\torch\\sentence_transformers\\ckiplab_bert-base-chinese and are newly initialized: ['bert.pooler.dense.weight', 'bert.pooler.dense.bias']\n",
      "You should probably TRAIN this model on a down-stream task to be able to use it for predictions and inference.\n"
     ]
    }
   ],
   "source": [
    "embedder = SentenceTransformer('ckiplab/bert-base-chinese')"
   ]
  },
  {
   "cell_type": "markdown",
   "metadata": {},
   "source": [
    "## 4. 使用 K-means 並串接 Dataset\n",
    "1. 使用 sentenceTransformer 套件作為 embedder\n",
    "2. 找出最適合的分群群數\n",
    "3. 找出每一群中，最接近中心點的句子作為代表\n",
    "4. 根據 model clustered label list 分配每個句子到所屬的 clustered list \n",
    "5. 印出最終結果\n",
    "\n",
    "參考資料  \n",
    "https://github.com/UKPLab/sentence-transformers/blob/master/examples/applications/clustering/kmeans.py  \n",
    "https://www.sbert.net/docs/pretrained_models.html  \n",
    "https://stackoverflow.com/questions/19197715/scikit-learn-k-means-elbow-criterion    \n",
    "https://stackoverflow.com/questions/21660937/get-nearest-point-to-centroid-scikit-learn  "
   ]
  },
  {
   "cell_type": "code",
   "execution_count": 8,
   "metadata": {},
   "outputs": [],
   "source": [
    "def cluster_article_opinions(combine_opinions_dict):\n",
    "    opinions_after_cluster  = []\n",
    "    for name_key in combine_opinions_dict.keys():\n",
    "        order_list = [item[2] for item in combine_opinions_dict[name_key]]\n",
    "        verb_list = [item[0] for item in combine_opinions_dict[name_key]]\n",
    "        corpus = [item[1] for item in combine_opinions_dict[name_key]]\n",
    "        corpus_embeddings = embedder.encode(corpus)\n",
    "\n",
    "        if len(corpus)== 1:\n",
    "            # print('no cluster :')\n",
    "            # print(\"person: \",name_key)\n",
    "            # print(corpus[0])\n",
    "            opinions_after_cluster.append({\"person\":name_key,\"verb\":verb_list[0],\"opinion\":corpus[0],\"order\":order_list[0]})\n",
    "            continue\n",
    "        elif len(corpus)== 2:\n",
    "            # compare the cosine similarity if bigger than 0.8, choose shorter one\n",
    "            cosine_scores = util.cos_sim(corpus_embeddings[0], corpus_embeddings[1])\n",
    "            # print(corpus)\n",
    "            # print(cosine_scores)\n",
    "            if cosine_scores > 0.8:\n",
    "                if(len(corpus_embeddings[0]) < len(corpus_embeddings[1])):\n",
    "                    opinions_after_cluster.append({\"person\":name_key,\"verb\":verb_list[0],\"opinion\":corpus[0],\"order\":order_list[0]})\n",
    "                else:\n",
    "                    opinions_after_cluster.append({\"person\":name_key,\"verb\":verb_list[1],\"opinion\":corpus[1],\"order\":order_list[1]})\n",
    "            continue\n",
    "        \n",
    "        # Find out the best score\n",
    "        sil_coeff_list = []\n",
    "        least_cluster_num = 2\n",
    "        if  5 >= len(corpus) > 3:\n",
    "            least_cluster_num = len(corpus) - 2\n",
    "        elif  7 >= len(corpus_embeddings) > 5:\n",
    "            least_cluster_num = len(corpus_embeddings) - 3\n",
    "        elif len(corpus_embeddings) > 7:\n",
    "            least_cluster_num = len(corpus_embeddings) - 4\n",
    "\n",
    "        for n_cluster in range(least_cluster_num, len(corpus_embeddings)):\n",
    "            clustering_model = KMeans(n_clusters=n_cluster).fit(corpus_embeddings)\n",
    "            label = clustering_model.labels_\n",
    "            sil_coeff = silhouette_score(corpus_embeddings, label, metric='euclidean')\n",
    "            sil_coeff_list.append(sil_coeff)\n",
    "\n",
    "        # print('least_cluster_num',least_cluster_num)\n",
    "        # print('len corpus',len(corpus))\n",
    "        # print('max index in coeff list',sil_coeff_list.index(max(sil_coeff_list)))\n",
    "\n",
    "\n",
    "        num_clusters = sil_coeff_list.index(max(sil_coeff_list)) + least_cluster_num\n",
    "        plt.plot(range(least_cluster_num,len(corpus_embeddings)), sil_coeff_list)\n",
    "        # print(\"best clusters num: \",num_clusters)\n",
    "\n",
    "        # Perform k-means clustering\n",
    "        clustering_model = KMeans(n_clusters=num_clusters)\n",
    "        clustering_model.fit(corpus_embeddings)\n",
    "        cluster_label_list = clustering_model.labels_\n",
    "        # print(cluster_label_list)\n",
    "\n",
    "        # Find the closet sentence in every cluster to represent group meaning\n",
    "        closest_index_list, _ = pairwise_distances_argmin_min(clustering_model.cluster_centers_, corpus_embeddings)\n",
    "        # print(\"closest_index_list: \",closest_index_list)\n",
    "\n",
    "        # Group all sentences into their clustered_sentences_list\n",
    "        clustered_sentences_list = [[] for i in range(num_clusters)]\n",
    "        for sentence_id, cluster_id in enumerate(cluster_label_list):\n",
    "            clustered_sentences_list[cluster_id].append(corpus[sentence_id])\n",
    "\n",
    "        # print out result\n",
    "        # print(\"person: \", name_key)\n",
    "        for i, clustered_sentences in enumerate(clustered_sentences_list):\n",
    "            # print(\"Cluster \", i+1)\n",
    "            # print(\"all sentence: \",clustered_sentences)\n",
    "            # print(\"represent sentence:\",corpus[closest_index_list[i]])\n",
    "            # print(\"\")\n",
    "            opinions_after_cluster.append({\"person\":name_key, \"verb\":verb_list[closest_index_list[i]], \"opinion\":corpus[closest_index_list[i]], \"order\":order_list[closest_index_list[i]]})\n",
    "    \n",
    "    return opinions_after_cluster\n",
    "        \n"
   ]
  },
  {
   "cell_type": "code",
   "execution_count": 9,
   "metadata": {},
   "outputs": [],
   "source": [
    "def remove_duplicate_same_article_sentence(article_opinions):\n",
    "    sentences = [opinion_object['opinion'] for opinion_object in article_opinions]\n",
    "    paraphrases = util.paraphrase_mining(embedder, sentences)\n",
    "    for paraphrase in paraphrases:\n",
    "        score, i, j = paraphrase\n",
    "        if score > 0.95:\n",
    "            # print(\"{} \\n {} \\n Score: {:.4f}\\n\\n\".format(sentences[i], sentences[j], score))\n",
    "            if len(sentences[i]) <= len(sentences[j]):\n",
    "                article_opinions[i] = \"\"\n",
    "            else:\n",
    "                article_opinions[j] = \"\"\n",
    "    article_opinions = [x for x in article_opinions if x]\n",
    "\n",
    "    return article_opinions\n"
   ]
  },
  {
   "cell_type": "markdown",
   "metadata": {},
   "source": [
    "## 5. 開始實作"
   ]
  },
  {
   "cell_type": "markdown",
   "metadata": {},
   "source": [
    "### 4."
   ]
  },
  {
   "cell_type": "code",
   "execution_count": 10,
   "metadata": {},
   "outputs": [
    {
     "name": "stderr",
     "output_type": "stream",
     "text": [
      "  5%|▌         | 5/100 [00:03<01:11,  1.33it/s]"
     ]
    },
    {
     "name": "stdout",
     "output_type": "stream",
     "text": [
      "5\n"
     ]
    },
    {
     "name": "stderr",
     "output_type": "stream",
     "text": [
      "\n"
     ]
    },
    {
     "data": {
      "image/png": "[encoded data removed]",
      "text/plain": [
       "<Figure size 432x288 with 1 Axes>"
      ]
     },
     "metadata": {
      "needs_background": "light"
     },
     "output_type": "display_data"
    }
   ],
   "source": [
    "all_opinions_after_cluster = []\n",
    "for i in trange(len(news_df)):\n",
    "    if i == 5 :\n",
    "        break\n",
    "    # print('-'*200,'\\narticle: ',i)\n",
    "    # try:\n",
    "    #     name_list = ast.literal_eval(news_df.iloc[i]['people_name'])\n",
    "    # except:\n",
    "    #     name_list = []\n",
    "    # print(name_list)\n",
    "    # print('name list',news_df.iloc[i]['people_name'])\n",
    "    opinions_list = ast.literal_eval(news_df.iloc[i][\"opinions_list\"])\n",
    "    combine_opinions_dict = {}\n",
    "    for opinions in opinions_list:\n",
    "        order = opinions[1]\n",
    "        for opinion_item_dict in opinions[0]:\n",
    "            if opinion_item_dict['labels'][0] == 'person':\n",
    "                person_name = opinion_item_dict['text']\n",
    "            elif opinion_item_dict['labels'][0] == 'verb':\n",
    "                verb_words = opinion_item_dict['text']\n",
    "            elif opinion_item_dict['labels'][0] == 'opinion':\n",
    "                opinion_words = opinion_item_dict['text']\n",
    "        # the opinions in reasonable count\n",
    "        if 10 < len(opinion_words) < 150: #  and opinions['person'] in name_list\n",
    "            if person_name in combine_opinions_dict.keys():\n",
    "                combine_opinions_dict[person_name].append([verb_words,opinion_words,order])\n",
    "            else:\n",
    "                combine_opinions_dict[person_name] = []\n",
    "                combine_opinions_dict[person_name].append([verb_words,opinion_words,order])\n",
    "    # print(combine_opinions_dict)\n",
    "    opinions_after_cluster = cluster_article_opinions(combine_opinions_dict)\n",
    "    # print(i, opinions_after_cluster)\n",
    "    # print()\n",
    "    all_opinions_after_cluster.append(opinions_after_cluster)\n",
    "    # print()\n",
    "        # print(opinions['person'], opinions['verb'],\":\", opinions['opinion'])\n",
    "print(len(all_opinions_after_cluster))"
   ]
  },
  {
   "cell_type": "code",
   "execution_count": 11,
   "metadata": {},
   "outputs": [
    {
     "name": "stderr",
     "output_type": "stream",
     "text": [
      "100%|██████████| 5/5 [00:02<00:00,  1.76it/s]\n"
     ]
    }
   ],
   "source": [
    "for i in trange(len(all_opinions_after_cluster)):\n",
    "    try:\n",
    "        all_opinions_after_cluster[i] = remove_duplicate_same_article_sentence(all_opinions_after_cluster[i])\n",
    "    except:\n",
    "        pass"
   ]
  },
  {
   "cell_type": "code",
   "execution_count": 12,
   "metadata": {},
   "outputs": [],
   "source": [
    "# for i,opinions_list in enumerate(all_opinions_after_cluster):\n",
    "#     print('-'*100)\n",
    "#     print(i)\n",
    "#     for opinions in opinions_list:\n",
    "#         print(opinions['person'], opinions['verb'],\":\", opinions['opinion'])"
   ]
  },
  {
   "cell_type": "code",
   "execution_count": 13,
   "metadata": {},
   "outputs": [],
   "source": [
    "s = pd.Series(all_opinions_after_cluster,name='all_opinions_after_cluster')\n",
    "new_cluster_opinions = pd.concat([news_df['title'],news_df['article'], s], axis=1)"
   ]
  },
  {
   "cell_type": "code",
   "execution_count": 17,
   "metadata": {},
   "outputs": [
    {
     "data": {
      "text/html": [
       "<div>\n",
       "<style scoped>\n",
       "    .dataframe tbody tr th:only-of-type {\n",
       "        vertical-align: middle;\n",
       "    }\n",
       "\n",
       "    .dataframe tbody tr th {\n",
       "        vertical-align: top;\n",
       "    }\n",
       "\n",
       "    .dataframe thead th {\n",
       "        text-align: right;\n",
       "    }\n",
       "</style>\n",
       "<table border=\"1\" class=\"dataframe\">\n",
       "  <thead>\n",
       "    <tr style=\"text-align: right;\">\n",
       "      <th></th>\n",
       "      <th>title</th>\n",
       "      <th>article</th>\n",
       "      <th>all_opinions_after_cluster</th>\n",
       "    </tr>\n",
       "  </thead>\n",
       "  <tbody>\n",
       "    <tr>\n",
       "      <th>0</th>\n",
       "      <td>蔡英文發聲挺蘇貞昌 批鄭麗文情緒性發言對當事人不公</td>\n",
       "      <td>針對行政院長蘇貞昌、國民黨立委鄭麗文12日在立法院發生激烈爭執,兼任民進黨主席的總統蔡英文1...</td>\n",
       "      <td>[{'person': '蔡英文', 'verb': '重申', 'opinion': '台...</td>\n",
       "    </tr>\n",
       "    <tr>\n",
       "      <th>1</th>\n",
       "      <td>蘇貞昌酸鄭麗文「民進黨叛徒」 他反譏:蔡英文也當國民黨閣員</td>\n",
       "      <td>行政院長蘇貞昌12日在立法院總質詢時,怒斥國民黨立委鄭麗文「袂見笑」、「當時還要拜託我去幫你...</td>\n",
       "      <td>[{'person': '費鴻泰', 'verb': '說', 'opinion': '「如...</td>\n",
       "    </tr>\n",
       "    <tr>\n",
       "      <th>2</th>\n",
       "      <td>蔡其昌質疑「想買中國科興疫苗」 國民黨團今按鈴控告妨害名譽</td>\n",
       "      <td>台灣基進立委陳柏惟遭罷免團體掛看板質疑「反對採購疫苗」,立法院副院長蔡其昌4日反駁,陳柏惟反...</td>\n",
       "      <td>[{'person': '陳柏惟', 'verb': '質疑', 'opinion': '「...</td>\n",
       "    </tr>\n",
       "    <tr>\n",
       "      <th>3</th>\n",
       "      <td>丁特控「天堂M」製作機率造假 高虹安揪朝野立委推「轉蛋法」修法</td>\n",
       "      <td>實況主丁特日前因質疑「天堂M」遊戲道具製作機率公告不實,引起各界關注。民眾黨立委高虹安14日...</td>\n",
       "      <td>[{'person': '高虹安', 'verb': '表示', 'opinion': '今...</td>\n",
       "    </tr>\n",
       "    <tr>\n",
       "      <th>4</th>\n",
       "      <td>全民防衛動員署明年成立 全動室主任韓岡明屆齡退休</td>\n",
       "      <td>國防部長邱國正14日證實,長年從事後備動員業務規劃的國防部全民防衛動員綜合作業室主任韓岡明,...</td>\n",
       "      <td>[{'person': '國防部', 'verb': '證實', 'opinion': '長...</td>\n",
       "    </tr>\n",
       "  </tbody>\n",
       "</table>\n",
       "</div>"
      ],
      "text/plain": [
       "                             title  \\\n",
       "0        蔡英文發聲挺蘇貞昌 批鄭麗文情緒性發言對當事人不公   \n",
       "1    蘇貞昌酸鄭麗文「民進黨叛徒」 他反譏:蔡英文也當國民黨閣員   \n",
       "2    蔡其昌質疑「想買中國科興疫苗」 國民黨團今按鈴控告妨害名譽   \n",
       "3  丁特控「天堂M」製作機率造假 高虹安揪朝野立委推「轉蛋法」修法   \n",
       "4         全民防衛動員署明年成立 全動室主任韓岡明屆齡退休   \n",
       "\n",
       "                                             article  \\\n",
       "0  針對行政院長蘇貞昌、國民黨立委鄭麗文12日在立法院發生激烈爭執,兼任民進黨主席的總統蔡英文1...   \n",
       "1  行政院長蘇貞昌12日在立法院總質詢時,怒斥國民黨立委鄭麗文「袂見笑」、「當時還要拜託我去幫你...   \n",
       "2  台灣基進立委陳柏惟遭罷免團體掛看板質疑「反對採購疫苗」,立法院副院長蔡其昌4日反駁,陳柏惟反...   \n",
       "3  實況主丁特日前因質疑「天堂M」遊戲道具製作機率公告不實,引起各界關注。民眾黨立委高虹安14日...   \n",
       "4  國防部長邱國正14日證實,長年從事後備動員業務規劃的國防部全民防衛動員綜合作業室主任韓岡明,...   \n",
       "\n",
       "                          all_opinions_after_cluster  \n",
       "0  [{'person': '蔡英文', 'verb': '重申', 'opinion': '台...  \n",
       "1  [{'person': '費鴻泰', 'verb': '說', 'opinion': '「如...  \n",
       "2  [{'person': '陳柏惟', 'verb': '質疑', 'opinion': '「...  \n",
       "3  [{'person': '高虹安', 'verb': '表示', 'opinion': '今...  \n",
       "4  [{'person': '國防部', 'verb': '證實', 'opinion': '長...  "
      ]
     },
     "execution_count": 17,
     "metadata": {},
     "output_type": "execute_result"
    }
   ],
   "source": [
    "new_cluster_opinions.head(5)"
   ]
  },
  {
   "cell_type": "code",
   "execution_count": 15,
   "metadata": {},
   "outputs": [],
   "source": [
    "new_cluster_opinions.to_csv(opinion_after_cluster_file,index=False) "
   ]
  }
 ],
 "metadata": {
  "interpreter": {
   "hash": "5c0372ed38b372118c24adb00d45654d76c8d10261533c5724e3f5fc1d75489a"
  },
  "kernelspec": {
   "display_name": "Python 3.8.8 64-bit",
   "language": "python",
   "name": "python3"
  },
  "language_info": {
   "codemirror_mode": {
    "name": "ipython",
    "version": 3
   },
   "file_extension": ".py",
   "mimetype": "text/x-python",
   "name": "python",
   "nbconvert_exporter": "python",
   "pygments_lexer": "ipython3",
   "version": "3.8.8"
  },
  "orig_nbformat": 4
 },
 "nbformat": 4,
 "nbformat_minor": 2
}
