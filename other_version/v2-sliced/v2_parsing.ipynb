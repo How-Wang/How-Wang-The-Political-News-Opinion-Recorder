{
 "cells": [
  {
   "cell_type": "markdown",
   "metadata": {
    "id": "VXIeTQ4HTK9T"
   },
   "source": [
    "# V1 取得 VE2 Agent 3."
   ]
  },
  {
   "cell_type": "code",
   "execution_count": 12,
   "metadata": {
    "colab": {
     "base_uri": "https://localhost:8080/"
    },
    "executionInfo": {
     "elapsed": 2998,
     "status": "ok",
     "timestamp": 1646481231836,
     "user": {
      "displayName": "F74082141王 浩",
      "photoUrl": "https://lh3.googleusercontent.com/a-/AOh14GhCsFx3dQEzYAcFs18YPMtij1s5AlclOQnHVzCW=s64",
      "userId": "09796250435249092023"
     },
     "user_tz": -480
    },
    "id": "tjpanjpOV_NJ",
    "outputId": "80c4b226-5091-4c68-d54d-f3a6ad0530e2"
   },
   "outputs": [],
   "source": [
    "from ckipnlp.pipeline import CkipPipeline, CkipDocument, CkipCorefPipeline\n",
    "import pandas as pd\n",
    "from tqdm import trange\n",
    "import ast"
   ]
  },
  {
   "cell_type": "markdown",
   "metadata": {
    "id": "g8ReZ4L9WAs7"
   },
   "source": [
    "## 載檔"
   ]
  },
  {
   "cell_type": "code",
   "execution_count": 13,
   "metadata": {},
   "outputs": [],
   "source": [
    "file_full_name = \"./v1_Total_Opinion.csv\"\n",
    "\n",
    "news_df = pd.read_csv(file_full_name)\n",
    "all_output_file = \"v2_Total_Opinion.csv\"\n",
    "opinion_after_cluster_file = \"v1_cluster_opinions.csv\"\n",
    "topic_info_file = \"v2_topic_info.csv\""
   ]
  },
  {
   "cell_type": "code",
   "execution_count": 14,
   "metadata": {},
   "outputs": [
    {
     "data": {
      "text/html": [
       "<div>\n",
       "<style scoped>\n",
       "    .dataframe tbody tr th:only-of-type {\n",
       "        vertical-align: middle;\n",
       "    }\n",
       "\n",
       "    .dataframe tbody tr th {\n",
       "        vertical-align: top;\n",
       "    }\n",
       "\n",
       "    .dataframe thead th {\n",
       "        text-align: right;\n",
       "    }\n",
       "</style>\n",
       "<table border=\"1\" class=\"dataframe\">\n",
       "  <thead>\n",
       "    <tr style=\"text-align: right;\">\n",
       "      <th></th>\n",
       "      <th>id</th>\n",
       "      <th>article</th>\n",
       "      <th>category</th>\n",
       "      <th>company_id</th>\n",
       "      <th>reporter</th>\n",
       "      <th>timestamp</th>\n",
       "      <th>title</th>\n",
       "      <th>url_pattern</th>\n",
       "      <th>label</th>\n",
       "      <th>annotator</th>\n",
       "      <th>...</th>\n",
       "      <th>updated_at</th>\n",
       "      <th>lead_time</th>\n",
       "      <th>article_coref</th>\n",
       "      <th>people_name</th>\n",
       "      <th>ner</th>\n",
       "      <th>topic</th>\n",
       "      <th>representative_docs</th>\n",
       "      <th>one_to_one_pair</th>\n",
       "      <th>one_to_one_pair_count</th>\n",
       "      <th>opinions_list</th>\n",
       "    </tr>\n",
       "  </thead>\n",
       "  <tbody>\n",
       "    <tr>\n",
       "      <th>0</th>\n",
       "      <td>883</td>\n",
       "      <td>針對行政院長蘇貞昌、國民黨立委鄭麗文12日在立法院發生激烈爭執,兼任民進黨主席的總統蔡英文1...</td>\n",
       "      <td>政治</td>\n",
       "      <td>3</td>\n",
       "      <td>陶本和</td>\n",
       "      <td>1634110500</td>\n",
       "      <td>蔡英文發聲挺蘇貞昌 批鄭麗文情緒性發言對當事人不公</td>\n",
       "      <td>2100273</td>\n",
       "      <td>[{\"start\": 0, \"end\": 142, \"text\": \"針對行政院長蘇貞昌、國...</td>\n",
       "      <td>1</td>\n",
       "      <td>...</td>\n",
       "      <td>2022-02-03T15:02:18.598120Z</td>\n",
       "      <td>518.272</td>\n",
       "      <td>針對行政院長蘇貞昌、國民黨立委鄭麗文12日在立法院發生激烈爭執,兼任民進黨主席的總統蔡英文1...</td>\n",
       "      <td>['蘇貞昌', '蔡英文', '民進黨', '行政院長', '中常會', '立法院', '國...</td>\n",
       "      <td>['蘇貞昌', '蔡英文', '台灣', '中國', '民進黨', '12日', '台灣',...</td>\n",
       "      <td>0</td>\n",
       "      <td>0</td>\n",
       "      <td>[[{'start': 134, 'end': 138, 'text': '台灣人民', '...</td>\n",
       "      <td>9</td>\n",
       "      <td>[[[{'start': 142, 'end': 145, 'text': '蔡英文', '...</td>\n",
       "    </tr>\n",
       "  </tbody>\n",
       "</table>\n",
       "<p>1 rows × 22 columns</p>\n",
       "</div>"
      ],
      "text/plain": [
       "    id                                            article category  \\\n",
       "0  883  針對行政院長蘇貞昌、國民黨立委鄭麗文12日在立法院發生激烈爭執,兼任民進黨主席的總統蔡英文1...       政治   \n",
       "\n",
       "   company_id reporter   timestamp                      title  url_pattern  \\\n",
       "0           3      陶本和  1634110500  蔡英文發聲挺蘇貞昌 批鄭麗文情緒性發言對當事人不公      2100273   \n",
       "\n",
       "                                               label  annotator  ...  \\\n",
       "0  [{\"start\": 0, \"end\": 142, \"text\": \"針對行政院長蘇貞昌、國...          1  ...   \n",
       "\n",
       "                    updated_at lead_time  \\\n",
       "0  2022-02-03T15:02:18.598120Z   518.272   \n",
       "\n",
       "                                       article_coref  \\\n",
       "0  針對行政院長蘇貞昌、國民黨立委鄭麗文12日在立法院發生激烈爭執,兼任民進黨主席的總統蔡英文1...   \n",
       "\n",
       "                                         people_name  \\\n",
       "0  ['蘇貞昌', '蔡英文', '民進黨', '行政院長', '中常會', '立法院', '國...   \n",
       "\n",
       "                                                 ner topic  \\\n",
       "0  ['蘇貞昌', '蔡英文', '台灣', '中國', '民進黨', '12日', '台灣',...     0   \n",
       "\n",
       "  representative_docs                                    one_to_one_pair  \\\n",
       "0                   0  [[{'start': 134, 'end': 138, 'text': '台灣人民', '...   \n",
       "\n",
       "   one_to_one_pair_count                                      opinions_list  \n",
       "0                      9  [[[{'start': 142, 'end': 145, 'text': '蔡英文', '...  \n",
       "\n",
       "[1 rows x 22 columns]"
      ]
     },
     "execution_count": 14,
     "metadata": {},
     "output_type": "execute_result"
    }
   ],
   "source": [
    "news_df.head(1)"
   ]
  },
  {
   "cell_type": "markdown",
   "metadata": {
    "id": "pv6hXUz-EjfT"
   },
   "source": [
    "#### 輸入 ckip 帳號密碼"
   ]
  },
  {
   "cell_type": "code",
   "execution_count": 15,
   "metadata": {
    "executionInfo": {
     "elapsed": 261,
     "status": "ok",
     "timestamp": 1646481252978,
     "user": {
      "displayName": "F74082141王 浩",
      "photoUrl": "https://lh3.googleusercontent.com/a-/AOh14GhCsFx3dQEzYAcFs18YPMtij1s5AlclOQnHVzCW=s64",
      "userId": "09796250435249092023"
     },
     "user_tz": -480
    },
    "id": "C0ohCMj1FI4z"
   },
   "outputs": [],
   "source": [
    "pipeline = CkipPipeline(opts={'con_parser': {'username': '', 'password': ''}})\n",
    "coref_pipeline = CkipCorefPipeline(opts={'con_parser': {'username': '', 'password': ''}})"
   ]
  },
  {
   "cell_type": "markdown",
   "metadata": {
    "id": "Ygc3MbR0g0_y"
   },
   "source": [
    "## 3. 產生 VE2 agent pair\n"
   ]
  },
  {
   "cell_type": "markdown",
   "metadata": {
    "id": "J0V-w1emiql3"
   },
   "source": [
    "### function 定義"
   ]
  },
  {
   "cell_type": "code",
   "execution_count": 16,
   "metadata": {
    "executionInfo": {
     "elapsed": 5,
     "status": "ok",
     "timestamp": 1646481265832,
     "user": {
      "displayName": "F74082141王 浩",
      "photoUrl": "https://lh3.googleusercontent.com/a-/AOh14GhCsFx3dQEzYAcFs18YPMtij1s5AlclOQnHVzCW=s64",
      "userId": "09796250435249092023"
     },
     "user_tz": -480
    },
    "id": "1RYjg5RFOW6i"
   },
   "outputs": [],
   "source": [
    "def make_conparse(an_article, pipeline):\n",
    "    doc = CkipDocument(raw=an_article)\n",
    "    pipeline.get_conparse(doc)\n",
    "    return doc.conparse[0]"
   ]
  },
  {
   "cell_type": "code",
   "execution_count": 17,
   "metadata": {
    "executionInfo": {
     "elapsed": 6,
     "status": "ok",
     "timestamp": 1646481265833,
     "user": {
      "displayName": "F74082141王 浩",
      "photoUrl": "https://lh3.googleusercontent.com/a-/AOh14GhCsFx3dQEzYAcFs18YPMtij1s5AlclOQnHVzCW=s64",
      "userId": "09796250435249092023"
     },
     "user_tz": -480
    },
    "id": "mepwztP6OW6k"
   },
   "outputs": [],
   "source": [
    "def find_spice_index(an_article):\n",
    "    return [i for i, char in enumerate(an_article) if char == ' ']"
   ]
  },
  {
   "cell_type": "code",
   "execution_count": 18,
   "metadata": {},
   "outputs": [],
   "source": [
    "def make_agent_VE2_label(old_article, pipeline):\n",
    "\n",
    "  spice_index_list = find_spice_index(old_article)\n",
    "  conparse = make_conparse(old_article, pipeline)\n",
    "  # print_tree_pic(old_article)\n",
    "\n",
    "  article = \"\"\n",
    "  start = 0\n",
    "  end = 0\n",
    "  # every sentence in article have 4 kinds VE2 and agent pairs\n",
    "  one_to_one_pair = []\n",
    "  # iterate the clause\n",
    "  for ParseClause in conparse:\n",
    "    sentence = \"\"\n",
    "    if ParseClause.clause != '':\n",
    "      VE2_count = 0\n",
    "      agent_count = 0\n",
    "      VE2_agent_clause_label = []\n",
    "      VE2_candidate_label_list = []\n",
    "      agent_candidate_label_list = []\n",
    "      tree = ParseClause.to_tree()\n",
    "      # iterate every node in sentence to find VE2 and agent\n",
    "      for node in tree.all_nodes_itr():\n",
    "        node_dict = node.to_dict()\n",
    "        node_data = node_dict['data']\n",
    "\n",
    "        node_id = node_dict['id']\n",
    "        role = node_data['role']\n",
    "        pos = node_data['pos']\n",
    "        word = node_data['word']\n",
    "        # change index when switch words\n",
    "        if word != None:\n",
    "          sentence += word\n",
    "          start = end\n",
    "          end = start + len(word)\n",
    "        else:\n",
    "          pass\n",
    "        # find VE2\n",
    "        if (('VE2' in pos) or ('VC' in pos) or ('VE11' in pos)):\n",
    "          label = {'start': start, 'end': end, 'text': word, 'labels': ['VE2']}\n",
    "\n",
    "          # VE2_agent_clause_label.append(label.copy())\n",
    "          VE2_candidate_label_list.append(label.copy())\n",
    "          VE2_count += 1\n",
    "        # find agent\n",
    "        if role != None:\n",
    "          if 'agent' in role:\n",
    "            if word == None:\n",
    "              temp_word = \"\"\n",
    "              sub_tree = tree.subtree(node_id)\n",
    "              sub_node_list = sub_tree.all_nodes()\n",
    "              sub_node_list.sort(key=lambda x: x.to_dict()['id'])\n",
    "              for sub_node in sub_node_list:\n",
    "                sub_node_dict = sub_node.to_dict()\n",
    "                if sub_node_dict['data']['word'] != None:\n",
    "                  temp_word += sub_node_dict['data']['word']\n",
    "              temp_start = end\n",
    "              temp_end = end + len(temp_word)\n",
    "            else:\n",
    "              temp_word = word\n",
    "              temp_start = start\n",
    "              temp_end = end\n",
    "            label = {'start': temp_start, 'end': temp_end, 'text': temp_word, 'labels': ['agent']}\n",
    "            # VE2_agent_clause_label.append(label.copy())\n",
    "            agent_candidate_label_list.append(label.copy())\n",
    "            agent_count += 1\n",
    "\n",
    "    # change index when switch sentence\n",
    "    sentence += ParseClause.delim\n",
    "    # print(ParseClause.delim)\n",
    "    start = end\n",
    "    end = start + len(ParseClause.delim)\n",
    "    article += sentence\n",
    "\n",
    "    # check this sentence's VE2_agent pair belong to which kind\n",
    "    if VE2_count >= 1 and agent_count >= 1:\n",
    "      VE2_agent_clause_label.append(VE2_candidate_label_list[0])\n",
    "      VE2_agent_clause_label.append(agent_candidate_label_list[0])\n",
    "      one_to_one_pair.append(VE2_agent_clause_label)\n",
    "\n",
    "  # change index when article have space\n",
    "  for space_index in spice_index_list:\n",
    "    article = article[:space_index] + \" \" + article[space_index:]\n",
    "    for one_to_one_sentence_object in one_to_one_pair:\n",
    "      for one_to_one_object in one_to_one_sentence_object:\n",
    "        if one_to_one_object['start'] >= space_index:\n",
    "          one_to_one_object['start'] += 1\n",
    "          one_to_one_object['end'] += 1        \n",
    "    \n",
    "  return one_to_one_pair"
   ]
  },
  {
   "cell_type": "markdown",
   "metadata": {},
   "source": [
    "## 6. 開始實作"
   ]
  },
  {
   "cell_type": "code",
   "execution_count": 19,
   "metadata": {},
   "outputs": [],
   "source": [
    "\"\"\"Test for py_version\"\"\"\n",
    "def top(file_full_name,pipeline):\n",
    "    news_df = pd.read_csv(file_full_name)\n",
    "    article_list = news_df['article_coref'].tolist()\n",
    "\n",
    "    news_df['one_to_one_pair'] = \"\"\n",
    "    news_df['one_to_one_pair_count'] = 0\n",
    "\n",
    "    for i in trange(len(news_df)):\n",
    "        if i == 1: # ~~~~~~~~~~~~~~~~~~~~~~~~~~~~~~~~~~~\n",
    "            return\n",
    "            # print(news_df)\n",
    "            # return news_df\n",
    "        try:\n",
    "            news_df['one_to_one_pair'][i] = make_agent_VE2_label(article_list[i], pipeline)\n",
    "        except:\n",
    "            print('function return error in' + str(i))\n",
    "            continue\n",
    "        try:\n",
    "            news_df['one_to_one_pair_count'][i] = len(news_df['one_to_one_pair'][i])\n",
    "        except:\n",
    "            print('one_to_one_pair_count error in' + str(i))\n",
    "            continue\n",
    "    return news_df"
   ]
  },
  {
   "cell_type": "code",
   "execution_count": 20,
   "metadata": {},
   "outputs": [],
   "source": [
    "\"\"\"Test for py_version\"\"\"\n",
    "def main():\n",
    "    pipeline = CkipPipeline(opts={'con_parser': {'username': 'Howard_Wang', 'password': '*******'}})\n",
    "    # get the file path from arg\n",
    "    # parser = argparse.ArgumentParser()\n",
    "\n",
    "    # parser.add_argument('--input_news_file_path',\n",
    "    #                     #  default='./result/v2_Total_Opinion.csv',\n",
    "    #                     help='enter input news data csv file path')\n",
    "\n",
    "    # parser.add_argument('--output_all_output_file_path',\n",
    "    #                     #  default='./result/v2_Total_Opinion.csv',\n",
    "    #                     help='enter output_all_output_file_path')\n",
    "\n",
    "    # args = parser.parse_args()\n",
    "\n",
    "    # file_full_name = args.input_news_file_path # file_full_name = \"./v1_Total_Opinion.csv\"\n",
    "    # all_output_file = args.output_all_output_file_path # all_output_file = \"./v1_Total_Opinion.csv\"\n",
    "    # pathlib.Path(all_output_file).parent.mkdir(parents=True, exist_ok=True)\n",
    "    top(file_full_name,pipeline)"
   ]
  },
  {
   "cell_type": "code",
   "execution_count": 21,
   "metadata": {},
   "outputs": [
    {
     "name": "stderr",
     "output_type": "stream",
     "text": [
      "  0%|          | 0/100 [00:00<?, ?it/s]C:\\Users\\User\\AppData\\Local\\Programs\\Python\\Python38\\lib\\site-packages\\tensorflow\\python\\keras\\layers\\legacy_rnn\\rnn_cell_impl.py:909: UserWarning: `tf.nn.rnn_cell.LSTMCell` is deprecated and will be removed in a future version. This class is equivalent as `tf.keras.layers.LSTMCell`, and will be replaced by that in Tensorflow 2.0.\n",
      "  warnings.warn(\"`tf.nn.rnn_cell.LSTMCell` is deprecated and will be \"\n",
      "C:\\Users\\User\\AppData\\Local\\Programs\\Python\\Python38\\lib\\site-packages\\tensorflow\\python\\keras\\engine\\base_layer_v1.py:1700: UserWarning: `layer.add_variable` is deprecated and will be removed in a future version. Please use `layer.add_weight` method instead.\n",
      "  warnings.warn('`layer.add_variable` is deprecated and '\n",
      "C:\\Users\\User\\AppData\\Local\\Temp/ipykernel_16772/2005155955.py:14: SettingWithCopyWarning: \n",
      "A value is trying to be set on a copy of a slice from a DataFrame\n",
      "\n",
      "See the caveats in the documentation: https://pandas.pydata.org/pandas-docs/stable/user_guide/indexing.html#returning-a-view-versus-a-copy\n",
      "  news_df['one_to_one_pair'][i] = make_agent_VE2_label(article_list[i], pipeline)\n",
      "C:\\Users\\User\\AppData\\Local\\Temp/ipykernel_16772/2005155955.py:19: SettingWithCopyWarning: \n",
      "A value is trying to be set on a copy of a slice from a DataFrame\n",
      "\n",
      "See the caveats in the documentation: https://pandas.pydata.org/pandas-docs/stable/user_guide/indexing.html#returning-a-view-versus-a-copy\n",
      "  news_df['one_to_one_pair_count'][i] = len(news_df['one_to_one_pair'][i])\n",
      "  1%|          | 1/100 [12:54<21:18:40, 774.96s/it]\n"
     ]
    }
   ],
   "source": [
    "\"\"\"Test for py_version\"\"\"\n",
    "main()"
   ]
  },
  {
   "cell_type": "markdown",
   "metadata": {},
   "source": [
    "### 3."
   ]
  },
  {
   "cell_type": "code",
   "execution_count": null,
   "metadata": {},
   "outputs": [],
   "source": [
    "article_list = news_df['article_coref'].tolist()"
   ]
  },
  {
   "cell_type": "code",
   "execution_count": null,
   "metadata": {},
   "outputs": [
    {
     "name": "stderr",
     "output_type": "stream",
     "text": [
      "  0%|          | 0/100 [00:00<?, ?it/s]C:\\Users\\User\\AppData\\Local\\Programs\\Python\\Python38\\lib\\site-packages\\tensorflow\\python\\keras\\layers\\legacy_rnn\\rnn_cell_impl.py:909: UserWarning: `tf.nn.rnn_cell.LSTMCell` is deprecated and will be removed in a future version. This class is equivalent as `tf.keras.layers.LSTMCell`, and will be replaced by that in Tensorflow 2.0.\n",
      "  warnings.warn(\"`tf.nn.rnn_cell.LSTMCell` is deprecated and will be \"\n",
      "C:\\Users\\User\\AppData\\Local\\Programs\\Python\\Python38\\lib\\site-packages\\tensorflow\\python\\keras\\engine\\base_layer_v1.py:1700: UserWarning: `layer.add_variable` is deprecated and will be removed in a future version. Please use `layer.add_weight` method instead.\n",
      "  warnings.warn('`layer.add_variable` is deprecated and '\n",
      "C:\\Users\\User\\AppData\\Local\\Temp/ipykernel_12744/2872328293.py:8: SettingWithCopyWarning: \n",
      "A value is trying to be set on a copy of a slice from a DataFrame\n",
      "\n",
      "See the caveats in the documentation: https://pandas.pydata.org/pandas-docs/stable/user_guide/indexing.html#returning-a-view-versus-a-copy\n",
      "  news_df['one_to_one_pair'][i] = make_agent_VE2_label(article_list[i], pipeline)\n",
      "C:\\Users\\User\\AppData\\Local\\Temp/ipykernel_12744/2872328293.py:13: SettingWithCopyWarning: \n",
      "A value is trying to be set on a copy of a slice from a DataFrame\n",
      "\n",
      "See the caveats in the documentation: https://pandas.pydata.org/pandas-docs/stable/user_guide/indexing.html#returning-a-view-versus-a-copy\n",
      "  news_df['one_to_one_pair_count'][i] = len(news_df['one_to_one_pair'][i])\n",
      "  3%|▎         | 3/100 [27:45<14:57:46, 555.32s/it]\n"
     ]
    }
   ],
   "source": [
    "news_df['one_to_one_pair'] = \"\"\n",
    "news_df['one_to_one_pair_count'] = 0\n",
    "\n",
    "for i in trange(len(news_df)):\n",
    "    if i == 3:\n",
    "        break\n",
    "    try:\n",
    "        news_df['one_to_one_pair'][i] = make_agent_VE2_label(article_list[i], pipeline)\n",
    "    except:\n",
    "        print('function return error in' + str(i))\n",
    "        continue\n",
    "    try:\n",
    "        news_df['one_to_one_pair_count'][i] = len(news_df['one_to_one_pair'][i])\n",
    "    except:\n",
    "        print('one_to_one_pair_count error in' + str(i))\n",
    "        continue\n",
    "    "
   ]
  },
  {
   "cell_type": "code",
   "execution_count": null,
   "metadata": {},
   "outputs": [
    {
     "data": {
      "text/html": [
       "<div>\n",
       "<style scoped>\n",
       "    .dataframe tbody tr th:only-of-type {\n",
       "        vertical-align: middle;\n",
       "    }\n",
       "\n",
       "    .dataframe tbody tr th {\n",
       "        vertical-align: top;\n",
       "    }\n",
       "\n",
       "    .dataframe thead th {\n",
       "        text-align: right;\n",
       "    }\n",
       "</style>\n",
       "<table border=\"1\" class=\"dataframe\">\n",
       "  <thead>\n",
       "    <tr style=\"text-align: right;\">\n",
       "      <th></th>\n",
       "      <th>id</th>\n",
       "      <th>article</th>\n",
       "      <th>category</th>\n",
       "      <th>company_id</th>\n",
       "      <th>reporter</th>\n",
       "      <th>timestamp</th>\n",
       "      <th>title</th>\n",
       "      <th>url_pattern</th>\n",
       "      <th>label</th>\n",
       "      <th>annotator</th>\n",
       "      <th>...</th>\n",
       "      <th>updated_at</th>\n",
       "      <th>lead_time</th>\n",
       "      <th>article_coref</th>\n",
       "      <th>people_name</th>\n",
       "      <th>ner</th>\n",
       "      <th>topic</th>\n",
       "      <th>representative_docs</th>\n",
       "      <th>one_to_one_pair</th>\n",
       "      <th>one_to_one_pair_count</th>\n",
       "      <th>opinions_list</th>\n",
       "    </tr>\n",
       "  </thead>\n",
       "  <tbody>\n",
       "    <tr>\n",
       "      <th>0</th>\n",
       "      <td>883</td>\n",
       "      <td>針對行政院長蘇貞昌、國民黨立委鄭麗文12日在立法院發生激烈爭執,兼任民進黨主席的總統蔡英文1...</td>\n",
       "      <td>政治</td>\n",
       "      <td>3</td>\n",
       "      <td>陶本和</td>\n",
       "      <td>1634110500</td>\n",
       "      <td>蔡英文發聲挺蘇貞昌 批鄭麗文情緒性發言對當事人不公</td>\n",
       "      <td>2100273</td>\n",
       "      <td>[{\"start\": 0, \"end\": 142, \"text\": \"針對行政院長蘇貞昌、國...</td>\n",
       "      <td>1</td>\n",
       "      <td>...</td>\n",
       "      <td>2022-02-03T15:02:18.598120Z</td>\n",
       "      <td>518.272</td>\n",
       "      <td>針對行政院長蘇貞昌、國民黨立委鄭麗文12日在立法院發生激烈爭執,兼任民進黨主席的總統蔡英文1...</td>\n",
       "      <td>['蘇貞昌', '蔡英文', '民進黨', '行政院長', '中常會', '立法院', '國...</td>\n",
       "      <td>['蘇貞昌', '蔡英文', '台灣', '中國', '民進黨', '12日', '台灣',...</td>\n",
       "      <td>0</td>\n",
       "      <td>0</td>\n",
       "      <td>[[{'start': 53, 'end': 55, 'text': '力挺', 'labe...</td>\n",
       "      <td>14</td>\n",
       "      <td>[[[{'start': 142, 'end': 145, 'text': '蔡英文', '...</td>\n",
       "    </tr>\n",
       "    <tr>\n",
       "      <th>1</th>\n",
       "      <td>862</td>\n",
       "      <td>行政院長蘇貞昌12日在立法院總質詢時,怒斥國民黨立委鄭麗文「袂見笑」、「當時還要拜託我去幫你...</td>\n",
       "      <td>政治</td>\n",
       "      <td>3</td>\n",
       "      <td>呂晏慈</td>\n",
       "      <td>1634092560</td>\n",
       "      <td>蘇貞昌酸鄭麗文「民進黨叛徒」 他反譏:蔡英文也當國民黨閣員</td>\n",
       "      <td>2100056</td>\n",
       "      <td>[{\"start\": 0, \"end\": 51, \"text\": \"行政院長蘇貞昌12日在立...</td>\n",
       "      <td>1</td>\n",
       "      <td>...</td>\n",
       "      <td>2022-02-03T12:47:43.626597Z</td>\n",
       "      <td>30432.838</td>\n",
       "      <td>行政院長蘇貞昌12日在立法院總質詢時,怒斥國民黨立委鄭麗文「袂見笑」、「當時還要拜託我去幫你...</td>\n",
       "      <td>['蘇貞昌', '行政院長', '鄭麗文', '國民黨', '蔡英文', '李德維', '立...</td>\n",
       "      <td>['蘇貞昌', '行政院長', '蘇', '鄭麗文', '國民黨', '蔡英文', '25、...</td>\n",
       "      <td>3</td>\n",
       "      <td>0</td>\n",
       "      <td>[[{'start': 61, 'end': 63, 'text': '舉行', 'labe...</td>\n",
       "      <td>16</td>\n",
       "      <td>[[[{'start': 86, 'end': 94, 'text': '費鴻泰', 'la...</td>\n",
       "    </tr>\n",
       "    <tr>\n",
       "      <th>2</th>\n",
       "      <td>854</td>\n",
       "      <td>台灣基進立委陳柏惟遭罷免團體掛看板質疑「反對採購疫苗」,立法院副院長蔡其昌4日反駁,陳柏惟反...</td>\n",
       "      <td>政治</td>\n",
       "      <td>3</td>\n",
       "      <td>呂晏慈</td>\n",
       "      <td>1634090220</td>\n",
       "      <td>蔡其昌質疑「想買中國科興疫苗」 國民黨團今按鈴控告妨害名譽</td>\n",
       "      <td>2100001</td>\n",
       "      <td>[{\"start\": 0, \"end\": 27, \"text\": \"台灣基進立委陳柏惟遭罷免...</td>\n",
       "      <td>1</td>\n",
       "      <td>...</td>\n",
       "      <td>2022-02-03T06:27:27.039925Z</td>\n",
       "      <td>7616.256</td>\n",
       "      <td>台灣基進立委陳柏惟遭罷免團體掛看板質疑「反對採購疫苗」,立法院副院長蔡其昌4日反駁,陳柏惟反...</td>\n",
       "      <td>['蔡其昌', '國民黨團', '中國科興', '立法院', '莫德納', '陳柏惟', '...</td>\n",
       "      <td>['蔡其昌', '國民黨團', '科興', '中國科興', '今天', '蔡其昌', '嬌生...</td>\n",
       "      <td>3</td>\n",
       "      <td>0</td>\n",
       "      <td>[[{'start': 10, 'end': 12, 'text': '罷免', 'labe...</td>\n",
       "      <td>6</td>\n",
       "      <td>[[[{'start': 0, 'end': 9, 'text': '陳柏惟', 'labe...</td>\n",
       "    </tr>\n",
       "  </tbody>\n",
       "</table>\n",
       "<p>3 rows × 22 columns</p>\n",
       "</div>"
      ],
      "text/plain": [
       "    id                                            article category  \\\n",
       "0  883  針對行政院長蘇貞昌、國民黨立委鄭麗文12日在立法院發生激烈爭執,兼任民進黨主席的總統蔡英文1...       政治   \n",
       "1  862  行政院長蘇貞昌12日在立法院總質詢時,怒斥國民黨立委鄭麗文「袂見笑」、「當時還要拜託我去幫你...       政治   \n",
       "2  854  台灣基進立委陳柏惟遭罷免團體掛看板質疑「反對採購疫苗」,立法院副院長蔡其昌4日反駁,陳柏惟反...       政治   \n",
       "\n",
       "   company_id reporter   timestamp                          title  \\\n",
       "0           3      陶本和  1634110500      蔡英文發聲挺蘇貞昌 批鄭麗文情緒性發言對當事人不公   \n",
       "1           3      呂晏慈  1634092560  蘇貞昌酸鄭麗文「民進黨叛徒」 他反譏:蔡英文也當國民黨閣員   \n",
       "2           3      呂晏慈  1634090220  蔡其昌質疑「想買中國科興疫苗」 國民黨團今按鈴控告妨害名譽   \n",
       "\n",
       "   url_pattern                                              label  annotator  \\\n",
       "0      2100273  [{\"start\": 0, \"end\": 142, \"text\": \"針對行政院長蘇貞昌、國...          1   \n",
       "1      2100056  [{\"start\": 0, \"end\": 51, \"text\": \"行政院長蘇貞昌12日在立...          1   \n",
       "2      2100001  [{\"start\": 0, \"end\": 27, \"text\": \"台灣基進立委陳柏惟遭罷免...          1   \n",
       "\n",
       "   ...                   updated_at  lead_time  \\\n",
       "0  ...  2022-02-03T15:02:18.598120Z    518.272   \n",
       "1  ...  2022-02-03T12:47:43.626597Z  30432.838   \n",
       "2  ...  2022-02-03T06:27:27.039925Z   7616.256   \n",
       "\n",
       "                                       article_coref  \\\n",
       "0  針對行政院長蘇貞昌、國民黨立委鄭麗文12日在立法院發生激烈爭執,兼任民進黨主席的總統蔡英文1...   \n",
       "1  行政院長蘇貞昌12日在立法院總質詢時,怒斥國民黨立委鄭麗文「袂見笑」、「當時還要拜託我去幫你...   \n",
       "2  台灣基進立委陳柏惟遭罷免團體掛看板質疑「反對採購疫苗」,立法院副院長蔡其昌4日反駁,陳柏惟反...   \n",
       "\n",
       "                                         people_name  \\\n",
       "0  ['蘇貞昌', '蔡英文', '民進黨', '行政院長', '中常會', '立法院', '國...   \n",
       "1  ['蘇貞昌', '行政院長', '鄭麗文', '國民黨', '蔡英文', '李德維', '立...   \n",
       "2  ['蔡其昌', '國民黨團', '中國科興', '立法院', '莫德納', '陳柏惟', '...   \n",
       "\n",
       "                                                 ner topic  \\\n",
       "0  ['蘇貞昌', '蔡英文', '台灣', '中國', '民進黨', '12日', '台灣',...     0   \n",
       "1  ['蘇貞昌', '行政院長', '蘇', '鄭麗文', '國民黨', '蔡英文', '25、...     3   \n",
       "2  ['蔡其昌', '國民黨團', '科興', '中國科興', '今天', '蔡其昌', '嬌生...     3   \n",
       "\n",
       "  representative_docs                                    one_to_one_pair  \\\n",
       "0                   0  [[{'start': 53, 'end': 55, 'text': '力挺', 'labe...   \n",
       "1                   0  [[{'start': 61, 'end': 63, 'text': '舉行', 'labe...   \n",
       "2                   0  [[{'start': 10, 'end': 12, 'text': '罷免', 'labe...   \n",
       "\n",
       "   one_to_one_pair_count                                      opinions_list  \n",
       "0                     14  [[[{'start': 142, 'end': 145, 'text': '蔡英文', '...  \n",
       "1                     16  [[[{'start': 86, 'end': 94, 'text': '費鴻泰', 'la...  \n",
       "2                      6  [[[{'start': 0, 'end': 9, 'text': '陳柏惟', 'labe...  \n",
       "\n",
       "[3 rows x 22 columns]"
      ]
     },
     "execution_count": 12,
     "metadata": {},
     "output_type": "execute_result"
    }
   ],
   "source": [
    "news_df.head(3)"
   ]
  },
  {
   "cell_type": "code",
   "execution_count": null,
   "metadata": {},
   "outputs": [],
   "source": [
    "news_df.to_csv('./v2_Total_Opinion.csv', index=False)"
   ]
  }
 ],
 "metadata": {
  "interpreter": {
   "hash": "5c0372ed38b372118c24adb00d45654d76c8d10261533c5724e3f5fc1d75489a"
  },
  "kernelspec": {
   "display_name": "Python 3.8.8 64-bit",
   "language": "python",
   "name": "python3"
  },
  "language_info": {
   "codemirror_mode": {
    "name": "ipython",
    "version": 3
   },
   "file_extension": ".py",
   "mimetype": "text/x-python",
   "name": "python",
   "nbconvert_exporter": "python",
   "pygments_lexer": "ipython3",
   "version": "3.8.8"
  },
  "orig_nbformat": 4
 },
 "nbformat": 4,
 "nbformat_minor": 2
}
