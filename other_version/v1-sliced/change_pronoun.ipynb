{
 "cells": [
  {
   "cell_type": "markdown",
   "metadata": {
    "id": "VXIeTQ4HTK9T"
   },
   "source": [
    "# V0  代名詞代換  \n",
    "1."
   ]
  },
  {
   "cell_type": "code",
   "execution_count": 1,
   "metadata": {
    "colab": {
     "base_uri": "https://localhost:8080/"
    },
    "executionInfo": {
     "elapsed": 2998,
     "status": "ok",
     "timestamp": 1646481231836,
     "user": {
      "displayName": "F74082141王 浩",
      "photoUrl": "https://lh3.googleusercontent.com/a-/AOh14GhCsFx3dQEzYAcFs18YPMtij1s5AlclOQnHVzCW=s64",
      "userId": "09796250435249092023"
     },
     "user_tz": -480
    },
    "id": "tjpanjpOV_NJ",
    "outputId": "80c4b226-5091-4c68-d54d-f3a6ad0530e2"
   },
   "outputs": [],
   "source": [
    "from ckipnlp.pipeline import CkipPipeline, CkipDocument\n",
    "import pandas as pd\n",
    "from itertools import chain\n",
    "from tqdm import trange\n",
    "\n",
    "# from google.cloud import bigquery\n",
    "# from google.cloud.exceptions import NotFound\n",
    "import pandas as pd"
   ]
  },
  {
   "cell_type": "markdown",
   "metadata": {
    "id": "g8ReZ4L9WAs7"
   },
   "source": [
    "## 載檔"
   ]
  },
  {
   "cell_type": "code",
   "execution_count": 2,
   "metadata": {},
   "outputs": [],
   "source": [
    "file_full_name = '../../label/political_news_label_0_to_99.csv'\n",
    "# file_output_name = file_full_name.split(\".csv\")[0]\n",
    "\n",
    "news_df = pd.read_csv(file_full_name)\n",
    "# all_output_file = \"./v0\" + file_output_name + \"_result.csv\"\n",
    "# opinion_after_cluster_file = \"./v0\" + file_output_name + \"_all_opinions_after_cluster.csv\"\n",
    "all_output_file = \"v1_Total_Opinion.csv\"\n",
    "opinion_after_cluster_file = \"v1_cluster_opinions.csv\"\n",
    "topic_info_file = \"v1_topic_info.csv\""
   ]
  },
  {
   "cell_type": "code",
   "execution_count": 3,
   "metadata": {},
   "outputs": [
    {
     "data": {
      "text/html": [
       "<div>\n",
       "<style scoped>\n",
       "    .dataframe tbody tr th:only-of-type {\n",
       "        vertical-align: middle;\n",
       "    }\n",
       "\n",
       "    .dataframe tbody tr th {\n",
       "        vertical-align: top;\n",
       "    }\n",
       "\n",
       "    .dataframe thead th {\n",
       "        text-align: right;\n",
       "    }\n",
       "</style>\n",
       "<table border=\"1\" class=\"dataframe\">\n",
       "  <thead>\n",
       "    <tr style=\"text-align: right;\">\n",
       "      <th></th>\n",
       "      <th>id</th>\n",
       "      <th>article</th>\n",
       "      <th>category</th>\n",
       "      <th>company_id</th>\n",
       "      <th>reporter</th>\n",
       "      <th>timestamp</th>\n",
       "      <th>title</th>\n",
       "      <th>url_pattern</th>\n",
       "      <th>label</th>\n",
       "      <th>annotator</th>\n",
       "      <th>annotation_id</th>\n",
       "      <th>created_at</th>\n",
       "      <th>updated_at</th>\n",
       "      <th>lead_time</th>\n",
       "    </tr>\n",
       "  </thead>\n",
       "  <tbody>\n",
       "    <tr>\n",
       "      <th>0</th>\n",
       "      <td>883</td>\n",
       "      <td>針對行政院長蘇貞昌、國民黨立委鄭麗文12日在立法院發生激烈爭執,兼任民進黨主席的總統蔡英文1...</td>\n",
       "      <td>政治</td>\n",
       "      <td>3</td>\n",
       "      <td>陶本和</td>\n",
       "      <td>1634110500</td>\n",
       "      <td>蔡英文發聲挺蘇貞昌 批鄭麗文情緒性發言對當事人不公</td>\n",
       "      <td>2100273</td>\n",
       "      <td>[{\"start\": 0, \"end\": 142, \"text\": \"針對行政院長蘇貞昌、國...</td>\n",
       "      <td>1</td>\n",
       "      <td>37</td>\n",
       "      <td>2022-02-03T14:55:55.310663Z</td>\n",
       "      <td>2022-02-03T15:02:18.598120Z</td>\n",
       "      <td>518.272</td>\n",
       "    </tr>\n",
       "  </tbody>\n",
       "</table>\n",
       "</div>"
      ],
      "text/plain": [
       "    id                                            article category  \\\n",
       "0  883  針對行政院長蘇貞昌、國民黨立委鄭麗文12日在立法院發生激烈爭執,兼任民進黨主席的總統蔡英文1...       政治   \n",
       "\n",
       "   company_id reporter   timestamp                      title  url_pattern  \\\n",
       "0           3      陶本和  1634110500  蔡英文發聲挺蘇貞昌 批鄭麗文情緒性發言對當事人不公      2100273   \n",
       "\n",
       "                                               label  annotator  \\\n",
       "0  [{\"start\": 0, \"end\": 142, \"text\": \"針對行政院長蘇貞昌、國...          1   \n",
       "\n",
       "   annotation_id                   created_at                   updated_at  \\\n",
       "0             37  2022-02-03T14:55:55.310663Z  2022-02-03T15:02:18.598120Z   \n",
       "\n",
       "   lead_time  \n",
       "0    518.272  "
      ]
     },
     "execution_count": 3,
     "metadata": {},
     "output_type": "execute_result"
    }
   ],
   "source": [
    "news_df.head(1)"
   ]
  },
  {
   "cell_type": "markdown",
   "metadata": {
    "id": "pv6hXUz-EjfT"
   },
   "source": [
    "#### 輸入 ckip 帳號密碼"
   ]
  },
  {
   "cell_type": "code",
   "execution_count": 4,
   "metadata": {
    "executionInfo": {
     "elapsed": 261,
     "status": "ok",
     "timestamp": 1646481252978,
     "user": {
      "displayName": "F74082141王 浩",
      "photoUrl": "https://lh3.googleusercontent.com/a-/AOh14GhCsFx3dQEzYAcFs18YPMtij1s5AlclOQnHVzCW=s64",
      "userId": "09796250435249092023"
     },
     "user_tz": -480
    },
    "id": "C0ohCMj1FI4z"
   },
   "outputs": [],
   "source": [
    "pipeline = CkipPipeline(opts={'con_parser': {'username': '', 'password': ''}})"
   ]
  },
  {
   "cell_type": "markdown",
   "metadata": {
    "id": "2LBx8lgfZvwL"
   },
   "source": [
    "## 1.代名詞代換"
   ]
  },
  {
   "cell_type": "markdown",
   "metadata": {
    "id": "RV1iK1l_HCS1"
   },
   "source": [
    "### function 定義"
   ]
  },
  {
   "cell_type": "markdown",
   "metadata": {
    "id": "Sg6icwbw2U5u"
   },
   "source": [
    "#### 將一字名稱代換\n",
    "- 呼叫 change_ner_one_word_name( ) 即可  \n",
    "- ex: `鄭(麗文)` 痛罵 `蘇(貞昌)`"
   ]
  },
  {
   "cell_type": "code",
   "execution_count": 5,
   "metadata": {
    "id": "HkRwnLBDokd0"
   },
   "outputs": [],
   "source": [
    "def get_person_entity_list(ner_list):\n",
    "  # Get the list contain changed person candidates\n",
    "  person_entity_list = []\n",
    "  for ner_item in ner_list:\n",
    "    if ((ner_item[1] in [\"PERSON\"]) and (2<=len(ner_item[0])<=4) ) or ((ner_item[1] in [\"ORG\",\"NORP\"]) and (3 <= len(ner_item[0]))): # \n",
    "      already_inside = False\n",
    "      # run through all person in candidates\n",
    "      for person_item in person_entity_list:\n",
    "        # have exist in candidate, count add 1\n",
    "        if ner_item[0] == person_item[0]:\n",
    "          already_inside = True\n",
    "          person_item[1] += 1\n",
    "      # not exist in candidate, append it\n",
    "      if already_inside == False:\n",
    "        person_entity_list.append([ner_item[0],0])\n",
    "  return person_entity_list"
   ]
  },
  {
   "cell_type": "code",
   "execution_count": 6,
   "metadata": {
    "id": "JoKNk0tSrCGC"
   },
   "outputs": [],
   "source": [
    "def remove_same_first_name_person(person_entity_list):\n",
    "  # calculate the show count, in order to change person candidate place having same first name\n",
    "  for item1 in person_entity_list:\n",
    "    for item2 in person_entity_list:\n",
    "      # if item not the same, but have same first name\n",
    "      # move the less show up one to last\n",
    "      if item1 != item2 and item1[0][0] == item2[0][0]:\n",
    "        # move less one to last\n",
    "        if item1[1] < item2[1]:\n",
    "          person_entity_list.append(person_entity_list.pop(person_entity_list.index(item1)))\n",
    "        elif item1[1] > item2[1]:\n",
    "          person_entity_list.append(person_entity_list.pop(person_entity_list.index(item2)))\n",
    "        elif len(item1[0]) > len(item2[0]):\n",
    "          person_entity_list.append(person_entity_list.pop(person_entity_list.index(item1)))\n",
    "        else:\n",
    "          person_entity_list.append(person_entity_list.pop(person_entity_list.index(item2)))\n",
    "  return person_entity_list"
   ]
  },
  {
   "cell_type": "code",
   "execution_count": 7,
   "metadata": {
    "id": "rDH_7_xe2TeF"
   },
   "outputs": [],
   "source": [
    "def change_ner_one_word_name(input_document):\n",
    "  input_document = input_document.replace(\" \",\"\")\n",
    "  doc = CkipDocument(raw=input_document)\n",
    "  # Named-Entity Recognition\n",
    "  pipeline.get_ner(doc)\n",
    "  ner_list = doc.ner.to_list()\n",
    "  # change 2d to 1d array\n",
    "  ner_list = list(chain.from_iterable(ner_list))\n",
    "  # temp save original ner for later to return\n",
    "  original_ner_list = [ner[0] for ner in ner_list.copy() if ner[1] not in ['DATE','CARDINAL','PERCENT','QUANTITY','TIME','ORDINAL']]\n",
    "  \n",
    "  # call \"person entity function\"\n",
    "  person_entity_list = get_person_entity_list(ner_list)\n",
    "  # call \"remove same first name person\" function\n",
    "  person_entity_list = remove_same_first_name_person(person_entity_list)\n",
    "  # leave person name\n",
    "  person_entity_list = list([item[0] for item in person_entity_list])\n",
    "\n",
    "  # sort the place of ner list\n",
    "  ner_list.sort(key=lambda x: x[2][0], reverse=False)\n",
    "  # leave the PERSON ner\n",
    "  ner_list = [[ner_item[0],ner_item[1],(ner_item[2][0],ner_item[2][1])] for ner_item in ner_list if ner_item[1]=='PERSON']\n",
    "\n",
    "  # change one word name to person entity name\n",
    "  for i in range(len(ner_list)):\n",
    "    if ner_list[i][0] not in person_entity_list and ner_list[i][1]=='PERSON' and len(ner_list[i][0]) < 3:\n",
    "      for person_entity_item in person_entity_list:\n",
    "        # first name is same, need change\n",
    "        if ner_list[i][0][0] == person_entity_item[0]:\n",
    "          new_word_len = len(person_entity_item)\n",
    "          old_word_len = len(ner_list[i][0])\n",
    "          input_document = input_document[:ner_list[i][2][0]] + person_entity_item + input_document[ner_list[i][2][1]:]\n",
    "          for j in range(i+1,len(ner_list)):\n",
    "            ner_list[j][2] = (ner_list[j][2][0] + (new_word_len-old_word_len), ner_list[j][2][1] + (new_word_len-old_word_len))\n",
    "  return person_entity_list,input_document,original_ner_list"
   ]
  },
  {
   "cell_type": "markdown",
   "metadata": {},
   "source": [
    "## 5. 開始實作"
   ]
  },
  {
   "cell_type": "markdown",
   "metadata": {},
   "source": [
    "### 1."
   ]
  },
  {
   "cell_type": "code",
   "execution_count": 8,
   "metadata": {},
   "outputs": [
    {
     "name": "stderr",
     "output_type": "stream",
     "text": [
      "  0%|          | 0/100 [00:00<?, ?it/s]C:\\Users\\User\\AppData\\Local\\Programs\\Python\\Python38\\lib\\site-packages\\tensorflow\\python\\keras\\layers\\legacy_rnn\\rnn_cell_impl.py:909: UserWarning: `tf.nn.rnn_cell.LSTMCell` is deprecated and will be removed in a future version. This class is equivalent as `tf.keras.layers.LSTMCell`, and will be replaced by that in Tensorflow 2.0.\n",
      "  warnings.warn(\"`tf.nn.rnn_cell.LSTMCell` is deprecated and will be \"\n",
      "C:\\Users\\User\\AppData\\Local\\Programs\\Python\\Python38\\lib\\site-packages\\tensorflow\\python\\keras\\engine\\base_layer_v1.py:1700: UserWarning: `layer.add_variable` is deprecated and will be removed in a future version. Please use `layer.add_weight` method instead.\n",
      "  warnings.warn('`layer.add_variable` is deprecated and '\n",
      "  1%|          | 1/100 [00:30<50:41, 30.73s/it]"
     ]
    },
    {
     "name": "stdout",
     "output_type": "stream",
     "text": [
      "['台灣', '台灣', '台灣', '蔡英文', '國民黨', '立法院', '台灣', '蔡英文', '蘇貞昌', '蔡英文', '台灣', '蘇貞昌', '台灣', '台灣', '中國', '蔡英文', '民進黨', '行政院長', '立法院', '蔡英文', '蔡英文', '台灣人民', '民進黨', '台灣', '台灣', '中常會', '中常會', '蘇貞昌', '蘇貞昌', '台灣', '民進黨', '蔡英文', '鄭麗文']\n"
     ]
    },
    {
     "name": "stderr",
     "output_type": "stream",
     "text": [
      "  2%|▏         | 2/100 [00:34<24:43, 15.14s/it]"
     ]
    },
    {
     "name": "stdout",
     "output_type": "stream",
     "text": [
      "['民進黨', '國民黨立院黨團', '袂見', '立法院', '鄭麗文', '李德維', '國民黨團', '蘇貞昌', '蘇貞昌', '鄭麗文', '蔡', '蔡英文', '蘇貞昌', '蘇', '蘇貞昌', '國民黨', '國會', '蘇失格', '蔡英文', '陳明文', '台灣', '行政院長', '蘇貞昌', '國民黨', '蘇貞昌', '國民黨', '蘇貞昌', '蘇', '蔡英文', '蘇貞昌', '鄭先', '國民黨', '李德維', '蘇貞昌', '民進黨', '蘇', '國民黨', '鄭麗文', '野百合學運', '民進黨', '鄭麗文', '黨團', '蔡英文', '蘇', '袂見笑', '費鴻泰酸', '民進黨', '民進黨', '民進黨', '蘇貞昌', '立法院', '國會', '鄭麗文', '國民黨', '鄭麗文', '蘇貞昌', '陳明文', '費鴻泰']\n"
     ]
    },
    {
     "name": "stderr",
     "output_type": "stream",
     "text": [
      "  3%|▎         | 3/100 [00:36<14:31,  8.98s/it]"
     ]
    },
    {
     "name": "stdout",
     "output_type": "stream",
     "text": [
      "['蘇貞昌', '中國科興', '國民黨團', '立法院', '國民黨立院黨團', '北檢', '莫德納', '台灣', '嬌生', '蔡其昌', '蔡其昌', '陳玉珍', '蔡其昌', '蔡其昌', '陳柏惟', '國民黨團', 'BNT', '國民黨團', '國民黨團', '國民黨團', '科興', '國民黨團', '費鴻泰', '陳柏惟', 'AZ', '國民黨團', '中國', '北檢', '立法院', '蔡其昌']\n"
     ]
    },
    {
     "name": "stderr",
     "output_type": "stream",
     "text": [
      "  4%|▍         | 4/100 [00:43<12:44,  7.96s/it]"
     ]
    },
    {
     "name": "stdout",
     "output_type": "stream",
     "text": [
      "['林俊憲', '高虹安', '日本', 'Nintendo', '高虹安', '金', 'Microsoft', '台灣', '台灣', '紫布', '丁特', '民進黨', '立法院', '高虹安', '邱顯智', '韓國', '洪孟楷', '民眾黨', '虹安', '丁特', '美國', '美國', '高虹安', '時代力量', '台灣', '國民黨', '日本', '虹安', '美國', '韓國', 'Sony', '韓國', 'Nexon', '主丁特', '高虹安', '日本', '高虹安', '高虹安', '9億韓元', '丁特']\n"
     ]
    },
    {
     "name": "stderr",
     "output_type": "stream",
     "text": [
      "  5%|▌         | 5/100 [00:47<14:55,  9.43s/it]"
     ]
    },
    {
     "name": "stdout",
     "output_type": "stream",
     "text": [
      "['邱國正', '陳以信', '邱國正', '邱國正', '國防部', '韓岡明', '全民防衛動員署', '國防部', '韓岡明', '國民黨', '國防部全民防衛動員署組織法', '陳以信', '邱國正', '全民防衛動員署', '國防部長', '陳以信', '邱國正', '國防部全民防衛動員綜合作業室', '邱國正', '邱國正', '國防委員會', '全民防衛動員署', '韓岡明', '陳以信', '邱國正', '韓岡明', '陳以信', '立法院', '全民防衛動員署', '韓岡明']\n"
     ]
    },
    {
     "name": "stderr",
     "output_type": "stream",
     "text": [
      "\n"
     ]
    }
   ],
   "source": [
    "input_document_list = news_df['article'].tolist()\n",
    "document_coref_list = []\n",
    "people_name_list = []\n",
    "article_ner_list = []\n",
    "for i in trange(len(input_document_list)):\n",
    "    # if i == 5:\n",
    "    #     break\n",
    "    try:\n",
    "        article_person_name,document_coref,article_ner = change_ner_one_word_name(input_document_list[i])\n",
    "        people_name_list.append(article_person_name)\n",
    "        document_coref_list.append(document_coref)\n",
    "        article_ner_list.append(article_ner)\n",
    "    # print(document_coref)\n",
    "    except:\n",
    "        people_name_list.append(\"\")\n",
    "        document_coref_list.append(\"\")\n",
    "        article_ner_list.append(\"\")\n",
    "  # if i == stop_point:\n",
    "  #   break"
   ]
  },
  {
   "cell_type": "code",
   "execution_count": 9,
   "metadata": {},
   "outputs": [],
   "source": [
    "article_coref_df = pd.Series(document_coref_list)\n",
    "news_df['article_coref'] = article_coref_df\n",
    "\n",
    "people_name_df = pd.Series(people_name_list)\n",
    "news_df['people_name'] = people_name_df\n",
    "\n",
    "article_ner_df = pd.Series(article_ner_list)\n",
    "news_df['ner'] = article_ner_df"
   ]
  },
  {
   "cell_type": "code",
   "execution_count": 10,
   "metadata": {},
   "outputs": [],
   "source": [
    "news_df.to_csv(all_output_file, index=False)"
   ]
  },
  {
   "cell_type": "code",
   "execution_count": 11,
   "metadata": {},
   "outputs": [
    {
     "data": {
      "text/html": [
       "<div>\n",
       "<style scoped>\n",
       "    .dataframe tbody tr th:only-of-type {\n",
       "        vertical-align: middle;\n",
       "    }\n",
       "\n",
       "    .dataframe tbody tr th {\n",
       "        vertical-align: top;\n",
       "    }\n",
       "\n",
       "    .dataframe thead th {\n",
       "        text-align: right;\n",
       "    }\n",
       "</style>\n",
       "<table border=\"1\" class=\"dataframe\">\n",
       "  <thead>\n",
       "    <tr style=\"text-align: right;\">\n",
       "      <th></th>\n",
       "      <th>id</th>\n",
       "      <th>article</th>\n",
       "      <th>category</th>\n",
       "      <th>company_id</th>\n",
       "      <th>reporter</th>\n",
       "      <th>timestamp</th>\n",
       "      <th>title</th>\n",
       "      <th>url_pattern</th>\n",
       "      <th>label</th>\n",
       "      <th>annotator</th>\n",
       "      <th>annotation_id</th>\n",
       "      <th>created_at</th>\n",
       "      <th>updated_at</th>\n",
       "      <th>lead_time</th>\n",
       "      <th>article_coref</th>\n",
       "      <th>people_name</th>\n",
       "      <th>ner</th>\n",
       "    </tr>\n",
       "  </thead>\n",
       "  <tbody>\n",
       "    <tr>\n",
       "      <th>99</th>\n",
       "      <td>855</td>\n",
       "      <td>行政院長蘇貞昌昨(12日)在立法院會備詢時,用台語怒罵國民黨立委鄭麗文「不要臉」,引發藍營怒...</td>\n",
       "      <td>政治</td>\n",
       "      <td>3</td>\n",
       "      <td>楊蕓</td>\n",
       "      <td>1634091120</td>\n",
       "      <td>張亞中批蘇貞昌嗆鄭麗文不要臉 「歷任最失格的行政院長」</td>\n",
       "      <td>2100005</td>\n",
       "      <td>[{\"start\": 0, \"end\": 48, \"text\": \"行政院長蘇貞昌昨(12日...</td>\n",
       "      <td>1</td>\n",
       "      <td>9</td>\n",
       "      <td>2022-02-03T05:27:35.471495Z</td>\n",
       "      <td>2022-02-03T05:27:35.471520Z</td>\n",
       "      <td>303.946</td>\n",
       "      <td>行政院長蘇貞昌昨(12日)在立法院會備詢時,用台語怒罵國民黨立委鄭麗文「不要臉」,引發藍營怒...</td>\n",
       "      <td>[朱子, 行政院長, 國民黨, 蘇貞昌, 張亞中, 蔡英文, 民進黨, 立法院, 孫文學校總...</td>\n",
       "      <td>[朱子, 行政院長, 國民黨, 立法院會, 蘇貞昌, 行政院, 張亞中, 蔡英文, 民進黨,...</td>\n",
       "    </tr>\n",
       "  </tbody>\n",
       "</table>\n",
       "</div>"
      ],
      "text/plain": [
       "     id                                            article category  \\\n",
       "99  855  行政院長蘇貞昌昨(12日)在立法院會備詢時,用台語怒罵國民黨立委鄭麗文「不要臉」,引發藍營怒...       政治   \n",
       "\n",
       "    company_id reporter   timestamp                        title  url_pattern  \\\n",
       "99           3       楊蕓  1634091120  張亞中批蘇貞昌嗆鄭麗文不要臉 「歷任最失格的行政院長」      2100005   \n",
       "\n",
       "                                                label  annotator  \\\n",
       "99  [{\"start\": 0, \"end\": 48, \"text\": \"行政院長蘇貞昌昨(12日...          1   \n",
       "\n",
       "    annotation_id                   created_at                   updated_at  \\\n",
       "99              9  2022-02-03T05:27:35.471495Z  2022-02-03T05:27:35.471520Z   \n",
       "\n",
       "    lead_time                                      article_coref  \\\n",
       "99    303.946  行政院長蘇貞昌昨(12日)在立法院會備詢時,用台語怒罵國民黨立委鄭麗文「不要臉」,引發藍營怒...   \n",
       "\n",
       "                                          people_name  \\\n",
       "99  [朱子, 行政院長, 國民黨, 蘇貞昌, 張亞中, 蔡英文, 民進黨, 立法院, 孫文學校總...   \n",
       "\n",
       "                                                  ner  \n",
       "99  [朱子, 行政院長, 國民黨, 立法院會, 蘇貞昌, 行政院, 張亞中, 蔡英文, 民進黨,...  "
      ]
     },
     "execution_count": 11,
     "metadata": {},
     "output_type": "execute_result"
    }
   ],
   "source": [
    "news_df.tail(1)"
   ]
  }
 ],
 "metadata": {
  "interpreter": {
   "hash": "5c0372ed38b372118c24adb00d45654d76c8d10261533c5724e3f5fc1d75489a"
  },
  "kernelspec": {
   "display_name": "Python 3.8.8 64-bit",
   "language": "python",
   "name": "python3"
  },
  "language_info": {
   "codemirror_mode": {
    "name": "ipython",
    "version": 3
   },
   "file_extension": ".py",
   "mimetype": "text/x-python",
   "name": "python",
   "nbconvert_exporter": "python",
   "pygments_lexer": "ipython3",
   "version": "3.8.8"
  },
  "orig_nbformat": 4
 },
 "nbformat": 4,
 "nbformat_minor": 2
}
