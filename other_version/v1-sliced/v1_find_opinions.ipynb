{
 "cells": [
  {
   "cell_type": "markdown",
   "metadata": {
    "id": "VXIeTQ4HTK9T"
   },
   "source": [
    "# V1 找出結尾與開頭 4. "
   ]
  },
  {
   "cell_type": "code",
   "execution_count": 8,
   "metadata": {
    "colab": {
     "base_uri": "https://localhost:8080/"
    },
    "executionInfo": {
     "elapsed": 2998,
     "status": "ok",
     "timestamp": 1646481231836,
     "user": {
      "displayName": "F74082141王 浩",
      "photoUrl": "https://lh3.googleusercontent.com/a-/AOh14GhCsFx3dQEzYAcFs18YPMtij1s5AlclOQnHVzCW=s64",
      "userId": "09796250435249092023"
     },
     "user_tz": -480
    },
    "id": "tjpanjpOV_NJ",
    "outputId": "80c4b226-5091-4c68-d54d-f3a6ad0530e2"
   },
   "outputs": [],
   "source": [
    "from ckipnlp.pipeline import CkipPipeline\n",
    "import regex as re\n",
    "import pandas as pd\n",
    "from tqdm import trange\n",
    "import ast"
   ]
  },
  {
   "cell_type": "markdown",
   "metadata": {
    "id": "g8ReZ4L9WAs7"
   },
   "source": [
    "## 載檔"
   ]
  },
  {
   "cell_type": "code",
   "execution_count": 9,
   "metadata": {},
   "outputs": [],
   "source": [
    "# file_full_name = '../../label/political_news_label_0_to_99.csv'\n",
    "file_full_name = \"./v1_Total_Opinion.csv\"\n",
    "file_output_name = file_full_name.split(\".csv\")[0]\n",
    "\n",
    "news_df = pd.read_csv(file_full_name)\n",
    "# all_output_file = \"./v0\" + file_output_name + \"_result.csv\"\n",
    "# opinion_after_cluster_file = \"./v0\" + file_output_name + \"_all_opinions_after_cluster.csv\"\n",
    "all_output_file = \"v1_Total_Opinion.csv\"\n",
    "opinion_after_cluster_file = \"v1_cluster_opinions.csv\"\n",
    "topic_info_file = \"v1_topic_info.csv\""
   ]
  },
  {
   "cell_type": "code",
   "execution_count": 10,
   "metadata": {},
   "outputs": [],
   "source": [
    "# news_df = pd.read_csv('./v1_Total_Opinion.csv')"
   ]
  },
  {
   "cell_type": "code",
   "execution_count": 11,
   "metadata": {},
   "outputs": [
    {
     "data": {
      "text/html": [
       "<div>\n",
       "<style scoped>\n",
       "    .dataframe tbody tr th:only-of-type {\n",
       "        vertical-align: middle;\n",
       "    }\n",
       "\n",
       "    .dataframe tbody tr th {\n",
       "        vertical-align: top;\n",
       "    }\n",
       "\n",
       "    .dataframe thead th {\n",
       "        text-align: right;\n",
       "    }\n",
       "</style>\n",
       "<table border=\"1\" class=\"dataframe\">\n",
       "  <thead>\n",
       "    <tr style=\"text-align: right;\">\n",
       "      <th></th>\n",
       "      <th>id</th>\n",
       "      <th>article</th>\n",
       "      <th>category</th>\n",
       "      <th>company_id</th>\n",
       "      <th>reporter</th>\n",
       "      <th>timestamp</th>\n",
       "      <th>title</th>\n",
       "      <th>url_pattern</th>\n",
       "      <th>label</th>\n",
       "      <th>annotator</th>\n",
       "      <th>annotation_id</th>\n",
       "      <th>created_at</th>\n",
       "      <th>updated_at</th>\n",
       "      <th>lead_time</th>\n",
       "      <th>article_coref</th>\n",
       "      <th>people_name</th>\n",
       "      <th>ner</th>\n",
       "      <th>one_to_one_pair</th>\n",
       "      <th>one_to_one_pair_count</th>\n",
       "    </tr>\n",
       "  </thead>\n",
       "  <tbody>\n",
       "    <tr>\n",
       "      <th>0</th>\n",
       "      <td>883</td>\n",
       "      <td>針對行政院長蘇貞昌、國民黨立委鄭麗文12日在立法院發生激烈爭執,兼任民進黨主席的總統蔡英文1...</td>\n",
       "      <td>政治</td>\n",
       "      <td>3</td>\n",
       "      <td>陶本和</td>\n",
       "      <td>1634110500</td>\n",
       "      <td>蔡英文發聲挺蘇貞昌 批鄭麗文情緒性發言對當事人不公</td>\n",
       "      <td>2100273</td>\n",
       "      <td>[{\"start\": 0, \"end\": 142, \"text\": \"針對行政院長蘇貞昌、國...</td>\n",
       "      <td>1</td>\n",
       "      <td>37</td>\n",
       "      <td>2022-02-03T14:55:55.310663Z</td>\n",
       "      <td>2022-02-03T15:02:18.598120Z</td>\n",
       "      <td>518.272</td>\n",
       "      <td>針對行政院長蘇貞昌、國民黨立委鄭麗文12日在立法院發生激烈爭執,兼任民進黨主席的總統蔡英文1...</td>\n",
       "      <td>['蔡英文', '行政院長', '鄭麗文', '民進黨', '蘇貞昌', '台灣人民', '...</td>\n",
       "      <td>['蔡英文', '行政院長', '12日', '鄭麗文', '台灣', '民進黨', '蘇貞...</td>\n",
       "      <td>[[{'start': 134, 'end': 138, 'text': '台灣人民', '...</td>\n",
       "      <td>9</td>\n",
       "    </tr>\n",
       "  </tbody>\n",
       "</table>\n",
       "</div>"
      ],
      "text/plain": [
       "    id                                            article category  \\\n",
       "0  883  針對行政院長蘇貞昌、國民黨立委鄭麗文12日在立法院發生激烈爭執,兼任民進黨主席的總統蔡英文1...       政治   \n",
       "\n",
       "   company_id reporter   timestamp                      title  url_pattern  \\\n",
       "0           3      陶本和  1634110500  蔡英文發聲挺蘇貞昌 批鄭麗文情緒性發言對當事人不公      2100273   \n",
       "\n",
       "                                               label  annotator  \\\n",
       "0  [{\"start\": 0, \"end\": 142, \"text\": \"針對行政院長蘇貞昌、國...          1   \n",
       "\n",
       "   annotation_id                   created_at                   updated_at  \\\n",
       "0             37  2022-02-03T14:55:55.310663Z  2022-02-03T15:02:18.598120Z   \n",
       "\n",
       "   lead_time                                      article_coref  \\\n",
       "0    518.272  針對行政院長蘇貞昌、國民黨立委鄭麗文12日在立法院發生激烈爭執,兼任民進黨主席的總統蔡英文1...   \n",
       "\n",
       "                                         people_name  \\\n",
       "0  ['蔡英文', '行政院長', '鄭麗文', '民進黨', '蘇貞昌', '台灣人民', '...   \n",
       "\n",
       "                                                 ner  \\\n",
       "0  ['蔡英文', '行政院長', '12日', '鄭麗文', '台灣', '民進黨', '蘇貞...   \n",
       "\n",
       "                                     one_to_one_pair  one_to_one_pair_count  \n",
       "0  [[{'start': 134, 'end': 138, 'text': '台灣人民', '...                      9  "
      ]
     },
     "execution_count": 11,
     "metadata": {},
     "output_type": "execute_result"
    }
   ],
   "source": [
    "news_df.head(1)"
   ]
  },
  {
   "cell_type": "markdown",
   "metadata": {
    "id": "pv6hXUz-EjfT"
   },
   "source": [
    "#### 輸入 ckip 帳號密碼"
   ]
  },
  {
   "cell_type": "code",
   "execution_count": 12,
   "metadata": {
    "executionInfo": {
     "elapsed": 261,
     "status": "ok",
     "timestamp": 1646481252978,
     "user": {
      "displayName": "F74082141王 浩",
      "photoUrl": "https://lh3.googleusercontent.com/a-/AOh14GhCsFx3dQEzYAcFs18YPMtij1s5AlclOQnHVzCW=s64",
      "userId": "09796250435249092023"
     },
     "user_tz": -480
    },
    "id": "C0ohCMj1FI4z"
   },
   "outputs": [],
   "source": [
    "pipeline = CkipPipeline(opts={'con_parser': {'username': '', 'password': ''}})"
   ]
  },
  {
   "cell_type": "markdown",
   "metadata": {
    "id": "wemIHsAWYgH3"
   },
   "source": [
    "## 4. 找出結尾與開頭\n",
    "原則為使用 one_to_one pair 到\"。\"或\"；\"為止，再根據以下條件過濾  \n",
    "1. VE2 一定要在 agent 後面\n",
    "2. 主詞為「你我他」就放棄\n",
    "3. 意見小於10字即放棄\n",
    "4. 句首往後找\"，\" 如果找到，就當作是開頭\n",
    "5. 句尾往後找\"」\" 如果找到，就當作是結尾"
   ]
  },
  {
   "cell_type": "markdown",
   "metadata": {},
   "source": [
    "### function 定義"
   ]
  },
  {
   "cell_type": "code",
   "execution_count": 13,
   "metadata": {
    "id": "C4eKbH0kZpM5"
   },
   "outputs": [],
   "source": [
    "# from random import betavariate\n",
    "def get_opinion(article,sentence_list,people_name_list):\n",
    "  # print(type(people_name_list))\n",
    "  if type(people_name_list) == str:\n",
    "    people_name_list = list(ast.literal_eval(people_name_list))\n",
    "  people_opinion_list = []\n",
    "\n",
    "  tolerance = 3\n",
    "  end_list = [m.start() for m in re.finditer('。|；|;', article)]\n",
    "  end_list.append(0)\n",
    "  end_list.append(len(article))\n",
    "  end_list.sort()\n",
    "\n",
    "  not_agent_list = [\"你\",\"妳\",\"我\",\"他\",\"她\"]\n",
    "  if type(sentence_list) == str:\n",
    "    sentence_list = ast.literal_eval(sentence_list)\n",
    "  # sentence agent not he or she, and verb is not in front of agent\n",
    "  sentence_list = [sentence for sentence in sentence_list if ((sentence[0]['text'] not in not_agent_list) and (sentence[0]['labels'] != ['VE2']))]\n",
    "\n",
    "  order = 0\n",
    "  for sentence in sentence_list:\n",
    "    for i in range(len(end_list)-1):\n",
    "\n",
    "      if end_list[i] - tolerance < sentence[0]['start'] and sentence[1]['end'] <= end_list[i+1]:\n",
    "        # to find \",\" place\n",
    "        start_point = sentence[1]['end']\n",
    "        start_icon_list = [',']\n",
    "        for temp_start in range(3):\n",
    "          if article[start_point+temp_start] in start_icon_list:\n",
    "            start_point = start_point + temp_start + 1\n",
    "            break\n",
    "        \n",
    "        # to find \"」\" place\n",
    "        end_point = end_list[i+1]\n",
    "        end_icon_list = [\"」\"]\n",
    "        for temp_end in range(3):\n",
    "          if article[start_point + temp_end] in end_icon_list:\n",
    "            start_point = start_point + temp_end + 1\n",
    "            break\n",
    "        if end_point - start_point < 10:\n",
    "          continue\n",
    "        opinion = article[start_point:end_point]\n",
    "\n",
    "        # change the name by candidate name list\n",
    "        people_name = sentence[0]['text']\n",
    "        for people_name_candidate in people_name_list:\n",
    "          if people_name_candidate in sentence[0]['text']:\n",
    "            people_name = people_name_candidate\n",
    "            break\n",
    "        # check agent is in people name_list\n",
    "        if people_name not in people_name_list:\n",
    "          continue\n",
    "\n",
    "        # people_opinion_object = {\"person\":people_name,\"verb\":sentence[1]['text'],\"opinion\":opinion,\"order\":order}\n",
    "        people_opinion_object = [[{'start': sentence[0]['start'], \n",
    "                                  'end': sentence[0]['end'], \n",
    "                                  'text':people_name,\n",
    "                                  'labels': ['person']\n",
    "                                  },{\n",
    "                                  'start':start_point,\n",
    "                                  'end': end_point, \n",
    "                                  'text': opinion,\n",
    "                                  'labels': ['opinion']\n",
    "                                  },{\n",
    "                                  'start': sentence[1]['start'],\n",
    "                                  'end': sentence[1]['end'], \n",
    "                                  'text': sentence[1]['text'],\n",
    "                                  'labels': ['verb']\n",
    "                                  }\n",
    "                                 ]\n",
    "                                ,order\n",
    "                                ]\n",
    "        people_opinion_list.append(people_opinion_object)\n",
    "        order = order + 1\n",
    "        \n",
    "  return people_opinion_list"
   ]
  },
  {
   "cell_type": "markdown",
   "metadata": {},
   "source": [
    "## 6. 開始實作"
   ]
  },
  {
   "cell_type": "markdown",
   "metadata": {},
   "source": [
    "4."
   ]
  },
  {
   "cell_type": "code",
   "execution_count": 14,
   "metadata": {},
   "outputs": [
    {
     "data": {
      "text/plain": [
       "\"[[{'start': 134, 'end': 138, 'text': '台灣人民', 'labels': ['agent']}, {'start': 139, 'end': 141, 'text': '樂見', 'labels': ['VE2']}], [{'start': 142, 'end': 145, 'text': '蔡英文', 'labels': ['agent']}, {'start': 150, 'end': 152, 'text': '表示', 'labels': ['VE2']}], [{'start': 258, 'end': 261, 'text': '蔡英文', 'labels': ['agent']}, {'start': 261, 'end': 262, 'text': '說', 'labels': ['VE2']}], [{'start': 269, 'end': 270, 'text': '她', 'labels': ['agent']}, {'start': 270, 'end': 272, 'text': '看到', 'labels': ['VE2']}], [{'start': 339, 'end': 340, 'text': '她', 'labels': ['agent']}, {'start': 340, 'end': 342, 'text': '認為', 'labels': ['VE2']}], [{'start': 414, 'end': 417, 'text': '蔡英文', 'labels': ['agent']}, {'start': 417, 'end': 419, 'text': '重申', 'labels': ['VE2']}], [{'start': 509, 'end': 512, 'text': '蔡英文', 'labels': ['agent']}, {'start': 514, 'end': 515, 'text': '說', 'labels': ['VE2']}], [{'start': 630, 'end': 633, 'text': '蔡英文', 'labels': ['agent']}, {'start': 633, 'end': 635, 'text': '強調', 'labels': ['VE2']}], [{'start': 724, 'end': 727, 'text': '蔡英文', 'labels': ['agent']}, {'start': 727, 'end': 728, 'text': '說', 'labels': ['VE2']}]]\""
      ]
     },
     "execution_count": 14,
     "metadata": {},
     "output_type": "execute_result"
    }
   ],
   "source": [
    "news_df.iloc[0]['one_to_one_pair']"
   ]
  },
  {
   "cell_type": "code",
   "execution_count": 15,
   "metadata": {},
   "outputs": [
    {
     "name": "stderr",
     "output_type": "stream",
     "text": [
      "  0%|          | 0/100 [00:00<?, ?it/s]C:\\Users\\User\\AppData\\Local\\Temp/ipykernel_13024/1444996564.py:7: SettingWithCopyWarning: \n",
      "A value is trying to be set on a copy of a slice from a DataFrame\n",
      "\n",
      "See the caveats in the documentation: https://pandas.pydata.org/pandas-docs/stable/user_guide/indexing.html#returning-a-view-versus-a-copy\n",
      "  news_df['opinions_list'][i] = get_opinion(news_df.iloc[i]['article_coref'],news_df.iloc[i]['one_to_one_pair'],news_df.iloc[i]['people_name'])\n",
      "  5%|▌         | 5/100 [00:00<00:00, 111.11it/s]\n"
     ]
    }
   ],
   "source": [
    "news_df['opinions_list'] = \"\"\n",
    "\n",
    "for i in trange(len(news_df)):\n",
    "    if i == 5:\n",
    "        break\n",
    "    try:\n",
    "        news_df['opinions_list'][i] = get_opinion(news_df.iloc[i]['article_coref'],news_df.iloc[i]['one_to_one_pair'],news_df.iloc[i]['people_name'])\n",
    "        # print(news_df['opinions_no_he_and_she'][i])\n",
    "    except:\n",
    "        print('error in ',i)\n",
    "        news_df['opinions_list'][i] = []"
   ]
  },
  {
   "cell_type": "code",
   "execution_count": 16,
   "metadata": {},
   "outputs": [
    {
     "data": {
      "text/html": [
       "<div>\n",
       "<style scoped>\n",
       "    .dataframe tbody tr th:only-of-type {\n",
       "        vertical-align: middle;\n",
       "    }\n",
       "\n",
       "    .dataframe tbody tr th {\n",
       "        vertical-align: top;\n",
       "    }\n",
       "\n",
       "    .dataframe thead th {\n",
       "        text-align: right;\n",
       "    }\n",
       "</style>\n",
       "<table border=\"1\" class=\"dataframe\">\n",
       "  <thead>\n",
       "    <tr style=\"text-align: right;\">\n",
       "      <th></th>\n",
       "      <th>id</th>\n",
       "      <th>article</th>\n",
       "      <th>category</th>\n",
       "      <th>company_id</th>\n",
       "      <th>reporter</th>\n",
       "      <th>timestamp</th>\n",
       "      <th>title</th>\n",
       "      <th>url_pattern</th>\n",
       "      <th>label</th>\n",
       "      <th>annotator</th>\n",
       "      <th>annotation_id</th>\n",
       "      <th>created_at</th>\n",
       "      <th>updated_at</th>\n",
       "      <th>lead_time</th>\n",
       "      <th>article_coref</th>\n",
       "      <th>people_name</th>\n",
       "      <th>ner</th>\n",
       "      <th>one_to_one_pair</th>\n",
       "      <th>one_to_one_pair_count</th>\n",
       "      <th>opinions_list</th>\n",
       "    </tr>\n",
       "  </thead>\n",
       "  <tbody>\n",
       "    <tr>\n",
       "      <th>0</th>\n",
       "      <td>883</td>\n",
       "      <td>針對行政院長蘇貞昌、國民黨立委鄭麗文12日在立法院發生激烈爭執,兼任民進黨主席的總統蔡英文1...</td>\n",
       "      <td>政治</td>\n",
       "      <td>3</td>\n",
       "      <td>陶本和</td>\n",
       "      <td>1634110500</td>\n",
       "      <td>蔡英文發聲挺蘇貞昌 批鄭麗文情緒性發言對當事人不公</td>\n",
       "      <td>2100273</td>\n",
       "      <td>[{\"start\": 0, \"end\": 142, \"text\": \"針對行政院長蘇貞昌、國...</td>\n",
       "      <td>1</td>\n",
       "      <td>37</td>\n",
       "      <td>2022-02-03T14:55:55.310663Z</td>\n",
       "      <td>2022-02-03T15:02:18.598120Z</td>\n",
       "      <td>518.272</td>\n",
       "      <td>針對行政院長蘇貞昌、國民黨立委鄭麗文12日在立法院發生激烈爭執,兼任民進黨主席的總統蔡英文1...</td>\n",
       "      <td>['蔡英文', '行政院長', '鄭麗文', '民進黨', '蘇貞昌', '台灣人民', '...</td>\n",
       "      <td>['蔡英文', '行政院長', '12日', '鄭麗文', '台灣', '民進黨', '蘇貞...</td>\n",
       "      <td>[[{'start': 134, 'end': 138, 'text': '台灣人民', '...</td>\n",
       "      <td>9</td>\n",
       "      <td>[[[{'start': 142, 'end': 145, 'text': '蔡英文', '...</td>\n",
       "    </tr>\n",
       "    <tr>\n",
       "      <th>1</th>\n",
       "      <td>862</td>\n",
       "      <td>行政院長蘇貞昌12日在立法院總質詢時,怒斥國民黨立委鄭麗文「袂見笑」、「當時還要拜託我去幫你...</td>\n",
       "      <td>政治</td>\n",
       "      <td>3</td>\n",
       "      <td>呂晏慈</td>\n",
       "      <td>1634092560</td>\n",
       "      <td>蘇貞昌酸鄭麗文「民進黨叛徒」 他反譏:蔡英文也當國民黨閣員</td>\n",
       "      <td>2100056</td>\n",
       "      <td>[{\"start\": 0, \"end\": 51, \"text\": \"行政院長蘇貞昌12日在立...</td>\n",
       "      <td>1</td>\n",
       "      <td>16</td>\n",
       "      <td>2022-02-03T12:47:32.966394Z</td>\n",
       "      <td>2022-02-03T12:47:43.626597Z</td>\n",
       "      <td>30432.838</td>\n",
       "      <td>行政院長蘇貞昌12日在立法院總質詢時,怒斥國民黨立委鄭麗文「袂見笑」、「當時還要拜託我去幫你...</td>\n",
       "      <td>['袂見', '蘇貞昌', '民進黨', '鄭麗文', '李德維', '陳明文', '國民黨...</td>\n",
       "      <td>['袂見', '蘇貞昌', '蘇', '費鴻泰酸', '蘇貞昌', '鄭先', '民進黨',...</td>\n",
       "      <td>[[{'start': 86, 'end': 94, 'text': '黨團總召費鴻泰酸',...</td>\n",
       "      <td>7</td>\n",
       "      <td>[[[{'start': 86, 'end': 94, 'text': '費鴻泰', 'la...</td>\n",
       "    </tr>\n",
       "    <tr>\n",
       "      <th>2</th>\n",
       "      <td>854</td>\n",
       "      <td>台灣基進立委陳柏惟遭罷免團體掛看板質疑「反對採購疫苗」,立法院副院長蔡其昌4日反駁,陳柏惟反...</td>\n",
       "      <td>政治</td>\n",
       "      <td>3</td>\n",
       "      <td>呂晏慈</td>\n",
       "      <td>1634090220</td>\n",
       "      <td>蔡其昌質疑「想買中國科興疫苗」 國民黨團今按鈴控告妨害名譽</td>\n",
       "      <td>2100001</td>\n",
       "      <td>[{\"start\": 0, \"end\": 27, \"text\": \"台灣基進立委陳柏惟遭罷免...</td>\n",
       "      <td>1</td>\n",
       "      <td>8</td>\n",
       "      <td>2022-02-03T05:22:16.944255Z</td>\n",
       "      <td>2022-02-03T06:27:27.039925Z</td>\n",
       "      <td>7616.256</td>\n",
       "      <td>台灣基進立委陳柏惟遭罷免團體掛看板質疑「反對採購疫苗」,立法院副院長蔡其昌4日反駁,陳柏惟反...</td>\n",
       "      <td>['國民黨團', 'BNT', '蔡其昌', '中國科興', '陳柏惟', '莫德納', '...</td>\n",
       "      <td>['上午', '國民黨團', '4日', '中國', 'BNT', '蔡其昌', '國民黨團...</td>\n",
       "      <td>[[{'start': 0, 'end': 9, 'text': '台灣基進立委陳柏惟', ...</td>\n",
       "      <td>3</td>\n",
       "      <td>[[[{'start': 0, 'end': 9, 'text': '陳柏惟', 'labe...</td>\n",
       "    </tr>\n",
       "    <tr>\n",
       "      <th>3</th>\n",
       "      <td>953</td>\n",
       "      <td>實況主丁特日前因質疑「天堂M」遊戲道具製作機率公告不實,引起各界關注。民眾黨立委高虹安14日...</td>\n",
       "      <td>政治</td>\n",
       "      <td>3</td>\n",
       "      <td>張鈞量</td>\n",
       "      <td>1634184240</td>\n",
       "      <td>丁特控「天堂M」製作機率造假 高虹安揪朝野立委推「轉蛋法」修法</td>\n",
       "      <td>2101034</td>\n",
       "      <td>[{\"start\": 0, \"end\": 35, \"text\": \"實況主丁特日前因質疑「天...</td>\n",
       "      <td>1</td>\n",
       "      <td>107</td>\n",
       "      <td>2022-02-04T13:48:13.063893Z</td>\n",
       "      <td>2022-02-04T13:48:13.063922Z</td>\n",
       "      <td>263.836</td>\n",
       "      <td>實況主丁特日前因質疑「天堂M」遊戲道具製作機率公告不實,引起各界關注。民眾黨立委高虹安14日...</td>\n",
       "      <td>['時代力量', '高虹安', '虹安', '紫布', 'Microsoft', '洪孟楷'...</td>\n",
       "      <td>['時代力量', '高虹安', '虹安', '2018年', '高虹安', '上百萬', '...</td>\n",
       "      <td>[[{'start': 15, 'end': 19, 'text': '遊戲道具', 'la...</td>\n",
       "      <td>9</td>\n",
       "      <td>[[[{'start': 35, 'end': 43, 'text': '高虹安', 'la...</td>\n",
       "    </tr>\n",
       "    <tr>\n",
       "      <th>4</th>\n",
       "      <td>952</td>\n",
       "      <td>國防部長邱國正14日證實,長年從事後備動員業務規劃的國防部全民防衛動員綜合作業室主任韓岡明,...</td>\n",
       "      <td>政治</td>\n",
       "      <td>3</td>\n",
       "      <td>林銘翰</td>\n",
       "      <td>1634182920</td>\n",
       "      <td>全民防衛動員署明年成立 全動室主任韓岡明屆齡退休</td>\n",
       "      <td>2101023</td>\n",
       "      <td>[{\"start\": 0, \"end\": 106, \"text\": \"國防部長邱國正14日證...</td>\n",
       "      <td>1</td>\n",
       "      <td>106</td>\n",
       "      <td>2022-02-04T13:43:48.981022Z</td>\n",
       "      <td>2022-02-04T13:43:48.981050Z</td>\n",
       "      <td>174.457</td>\n",
       "      <td>國防部長邱國正14日證實,長年從事後備動員業務規劃的國防部全民防衛動員綜合作業室主任韓岡明,...</td>\n",
       "      <td>['全民防衛動員署', '陳以信', '國防部', '邱國正', '韓岡明', '國民黨',...</td>\n",
       "      <td>['全民防衛動員署', '陳以信', '一半', '國防委員會', '國防部', '邱國正'...</td>\n",
       "      <td>[[{'start': 0, 'end': 7, 'text': '國防部長邱國正', 'l...</td>\n",
       "      <td>8</td>\n",
       "      <td>[[[{'start': 0, 'end': 7, 'text': '國防部', 'labe...</td>\n",
       "    </tr>\n",
       "  </tbody>\n",
       "</table>\n",
       "</div>"
      ],
      "text/plain": [
       "    id                                            article category  \\\n",
       "0  883  針對行政院長蘇貞昌、國民黨立委鄭麗文12日在立法院發生激烈爭執,兼任民進黨主席的總統蔡英文1...       政治   \n",
       "1  862  行政院長蘇貞昌12日在立法院總質詢時,怒斥國民黨立委鄭麗文「袂見笑」、「當時還要拜託我去幫你...       政治   \n",
       "2  854  台灣基進立委陳柏惟遭罷免團體掛看板質疑「反對採購疫苗」,立法院副院長蔡其昌4日反駁,陳柏惟反...       政治   \n",
       "3  953  實況主丁特日前因質疑「天堂M」遊戲道具製作機率公告不實,引起各界關注。民眾黨立委高虹安14日...       政治   \n",
       "4  952  國防部長邱國正14日證實,長年從事後備動員業務規劃的國防部全民防衛動員綜合作業室主任韓岡明,...       政治   \n",
       "\n",
       "   company_id reporter   timestamp                            title  \\\n",
       "0           3      陶本和  1634110500        蔡英文發聲挺蘇貞昌 批鄭麗文情緒性發言對當事人不公   \n",
       "1           3      呂晏慈  1634092560    蘇貞昌酸鄭麗文「民進黨叛徒」 他反譏:蔡英文也當國民黨閣員   \n",
       "2           3      呂晏慈  1634090220    蔡其昌質疑「想買中國科興疫苗」 國民黨團今按鈴控告妨害名譽   \n",
       "3           3      張鈞量  1634184240  丁特控「天堂M」製作機率造假 高虹安揪朝野立委推「轉蛋法」修法   \n",
       "4           3      林銘翰  1634182920         全民防衛動員署明年成立 全動室主任韓岡明屆齡退休   \n",
       "\n",
       "   url_pattern                                              label  annotator  \\\n",
       "0      2100273  [{\"start\": 0, \"end\": 142, \"text\": \"針對行政院長蘇貞昌、國...          1   \n",
       "1      2100056  [{\"start\": 0, \"end\": 51, \"text\": \"行政院長蘇貞昌12日在立...          1   \n",
       "2      2100001  [{\"start\": 0, \"end\": 27, \"text\": \"台灣基進立委陳柏惟遭罷免...          1   \n",
       "3      2101034  [{\"start\": 0, \"end\": 35, \"text\": \"實況主丁特日前因質疑「天...          1   \n",
       "4      2101023  [{\"start\": 0, \"end\": 106, \"text\": \"國防部長邱國正14日證...          1   \n",
       "\n",
       "   annotation_id                   created_at                   updated_at  \\\n",
       "0             37  2022-02-03T14:55:55.310663Z  2022-02-03T15:02:18.598120Z   \n",
       "1             16  2022-02-03T12:47:32.966394Z  2022-02-03T12:47:43.626597Z   \n",
       "2              8  2022-02-03T05:22:16.944255Z  2022-02-03T06:27:27.039925Z   \n",
       "3            107  2022-02-04T13:48:13.063893Z  2022-02-04T13:48:13.063922Z   \n",
       "4            106  2022-02-04T13:43:48.981022Z  2022-02-04T13:43:48.981050Z   \n",
       "\n",
       "   lead_time                                      article_coref  \\\n",
       "0    518.272  針對行政院長蘇貞昌、國民黨立委鄭麗文12日在立法院發生激烈爭執,兼任民進黨主席的總統蔡英文1...   \n",
       "1  30432.838  行政院長蘇貞昌12日在立法院總質詢時,怒斥國民黨立委鄭麗文「袂見笑」、「當時還要拜託我去幫你...   \n",
       "2   7616.256  台灣基進立委陳柏惟遭罷免團體掛看板質疑「反對採購疫苗」,立法院副院長蔡其昌4日反駁,陳柏惟反...   \n",
       "3    263.836  實況主丁特日前因質疑「天堂M」遊戲道具製作機率公告不實,引起各界關注。民眾黨立委高虹安14日...   \n",
       "4    174.457  國防部長邱國正14日證實,長年從事後備動員業務規劃的國防部全民防衛動員綜合作業室主任韓岡明,...   \n",
       "\n",
       "                                         people_name  \\\n",
       "0  ['蔡英文', '行政院長', '鄭麗文', '民進黨', '蘇貞昌', '台灣人民', '...   \n",
       "1  ['袂見', '蘇貞昌', '民進黨', '鄭麗文', '李德維', '陳明文', '國民黨...   \n",
       "2  ['國民黨團', 'BNT', '蔡其昌', '中國科興', '陳柏惟', '莫德納', '...   \n",
       "3  ['時代力量', '高虹安', '虹安', '紫布', 'Microsoft', '洪孟楷'...   \n",
       "4  ['全民防衛動員署', '陳以信', '國防部', '邱國正', '韓岡明', '國民黨',...   \n",
       "\n",
       "                                                 ner  \\\n",
       "0  ['蔡英文', '行政院長', '12日', '鄭麗文', '台灣', '民進黨', '蘇貞...   \n",
       "1  ['袂見', '蘇貞昌', '蘇', '費鴻泰酸', '蘇貞昌', '鄭先', '民進黨',...   \n",
       "2  ['上午', '國民黨團', '4日', '中國', 'BNT', '蔡其昌', '國民黨團...   \n",
       "3  ['時代力量', '高虹安', '虹安', '2018年', '高虹安', '上百萬', '...   \n",
       "4  ['全民防衛動員署', '陳以信', '一半', '國防委員會', '國防部', '邱國正'...   \n",
       "\n",
       "                                     one_to_one_pair  one_to_one_pair_count  \\\n",
       "0  [[{'start': 134, 'end': 138, 'text': '台灣人民', '...                      9   \n",
       "1  [[{'start': 86, 'end': 94, 'text': '黨團總召費鴻泰酸',...                      7   \n",
       "2  [[{'start': 0, 'end': 9, 'text': '台灣基進立委陳柏惟', ...                      3   \n",
       "3  [[{'start': 15, 'end': 19, 'text': '遊戲道具', 'la...                      9   \n",
       "4  [[{'start': 0, 'end': 7, 'text': '國防部長邱國正', 'l...                      8   \n",
       "\n",
       "                                       opinions_list  \n",
       "0  [[[{'start': 142, 'end': 145, 'text': '蔡英文', '...  \n",
       "1  [[[{'start': 86, 'end': 94, 'text': '費鴻泰', 'la...  \n",
       "2  [[[{'start': 0, 'end': 9, 'text': '陳柏惟', 'labe...  \n",
       "3  [[[{'start': 35, 'end': 43, 'text': '高虹安', 'la...  \n",
       "4  [[[{'start': 0, 'end': 7, 'text': '國防部', 'labe...  "
      ]
     },
     "execution_count": 16,
     "metadata": {},
     "output_type": "execute_result"
    }
   ],
   "source": [
    "news_df.head(5)"
   ]
  },
  {
   "cell_type": "code",
   "execution_count": 19,
   "metadata": {},
   "outputs": [],
   "source": [
    "news_df.to_csv('./v1_Total_Opinion.csv', index=False)"
   ]
  },
  {
   "cell_type": "code",
   "execution_count": 18,
   "metadata": {},
   "outputs": [],
   "source": [
    "# news_df.iloc[-1]['opinions_list']"
   ]
  }
 ],
 "metadata": {
  "interpreter": {
   "hash": "5c0372ed38b372118c24adb00d45654d76c8d10261533c5724e3f5fc1d75489a"
  },
  "kernelspec": {
   "display_name": "Python 3.8.8 64-bit",
   "language": "python",
   "name": "python3"
  },
  "language_info": {
   "codemirror_mode": {
    "name": "ipython",
    "version": 3
   },
   "file_extension": ".py",
   "mimetype": "text/x-python",
   "name": "python",
   "nbconvert_exporter": "python",
   "pygments_lexer": "ipython3",
   "version": "3.8.8"
  },
  "orig_nbformat": 4
 },
 "nbformat": 4,
 "nbformat_minor": 2
}
