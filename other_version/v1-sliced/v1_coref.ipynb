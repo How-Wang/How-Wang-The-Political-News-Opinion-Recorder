{
 "cells": [
  {
   "cell_type": "markdown",
   "metadata": {
    "id": "VXIeTQ4HTK9T"
   },
   "source": [
    "# V1 取得 VE2 Agent 3."
   ]
  },
  {
   "cell_type": "code",
   "execution_count": 1,
   "metadata": {
    "colab": {
     "base_uri": "https://localhost:8080/"
    },
    "executionInfo": {
     "elapsed": 2998,
     "status": "ok",
     "timestamp": 1646481231836,
     "user": {
      "displayName": "F74082141王 浩",
      "photoUrl": "https://lh3.googleusercontent.com/a-/AOh14GhCsFx3dQEzYAcFs18YPMtij1s5AlclOQnHVzCW=s64",
      "userId": "09796250435249092023"
     },
     "user_tz": -480
    },
    "id": "tjpanjpOV_NJ",
    "outputId": "80c4b226-5091-4c68-d54d-f3a6ad0530e2"
   },
   "outputs": [],
   "source": [
    "from ckipnlp.pipeline import CkipPipeline, CkipDocument, CkipCorefPipeline\n",
    "import pandas as pd\n",
    "from tqdm import trange\n",
    "import ast"
   ]
  },
  {
   "cell_type": "markdown",
   "metadata": {
    "id": "g8ReZ4L9WAs7"
   },
   "source": [
    "## 載檔"
   ]
  },
  {
   "cell_type": "code",
   "execution_count": 2,
   "metadata": {},
   "outputs": [],
   "source": [
    "file_full_name = \"./v1_Total_Opinion.csv\"\n",
    "\n",
    "news_df = pd.read_csv(file_full_name)\n",
    "all_output_file = \"v1_Total_Opinion.csv\"\n",
    "opinion_after_cluster_file = \"v1_cluster_opinions.csv\"\n",
    "topic_info_file = \"v1_topic_info.csv\""
   ]
  },
  {
   "cell_type": "code",
   "execution_count": 3,
   "metadata": {},
   "outputs": [
    {
     "data": {
      "text/html": [
       "<div>\n",
       "<style scoped>\n",
       "    .dataframe tbody tr th:only-of-type {\n",
       "        vertical-align: middle;\n",
       "    }\n",
       "\n",
       "    .dataframe tbody tr th {\n",
       "        vertical-align: top;\n",
       "    }\n",
       "\n",
       "    .dataframe thead th {\n",
       "        text-align: right;\n",
       "    }\n",
       "</style>\n",
       "<table border=\"1\" class=\"dataframe\">\n",
       "  <thead>\n",
       "    <tr style=\"text-align: right;\">\n",
       "      <th></th>\n",
       "      <th>id</th>\n",
       "      <th>article</th>\n",
       "      <th>category</th>\n",
       "      <th>company_id</th>\n",
       "      <th>reporter</th>\n",
       "      <th>timestamp</th>\n",
       "      <th>title</th>\n",
       "      <th>url_pattern</th>\n",
       "      <th>label</th>\n",
       "      <th>annotator</th>\n",
       "      <th>annotation_id</th>\n",
       "      <th>created_at</th>\n",
       "      <th>updated_at</th>\n",
       "      <th>lead_time</th>\n",
       "      <th>article_coref</th>\n",
       "      <th>people_name</th>\n",
       "      <th>ner</th>\n",
       "    </tr>\n",
       "  </thead>\n",
       "  <tbody>\n",
       "    <tr>\n",
       "      <th>0</th>\n",
       "      <td>883</td>\n",
       "      <td>針對行政院長蘇貞昌、國民黨立委鄭麗文12日在立法院發生激烈爭執,兼任民進黨主席的總統蔡英文1...</td>\n",
       "      <td>政治</td>\n",
       "      <td>3</td>\n",
       "      <td>陶本和</td>\n",
       "      <td>1634110500</td>\n",
       "      <td>蔡英文發聲挺蘇貞昌 批鄭麗文情緒性發言對當事人不公</td>\n",
       "      <td>2100273</td>\n",
       "      <td>[{\"start\": 0, \"end\": 142, \"text\": \"針對行政院長蘇貞昌、國...</td>\n",
       "      <td>1</td>\n",
       "      <td>37</td>\n",
       "      <td>2022-02-03T14:55:55.310663Z</td>\n",
       "      <td>2022-02-03T15:02:18.598120Z</td>\n",
       "      <td>518.272</td>\n",
       "      <td>針對行政院長蘇貞昌、國民黨立委鄭麗文12日在立法院發生激烈爭執,兼任民進黨主席的總統蔡英文1...</td>\n",
       "      <td>['蔡英文', '行政院長', '鄭麗文', '民進黨', '蘇貞昌', '台灣人民', '...</td>\n",
       "      <td>['蔡英文', '行政院長', '12日', '鄭麗文', '台灣', '民進黨', '蘇貞...</td>\n",
       "    </tr>\n",
       "  </tbody>\n",
       "</table>\n",
       "</div>"
      ],
      "text/plain": [
       "    id                                            article category  \\\n",
       "0  883  針對行政院長蘇貞昌、國民黨立委鄭麗文12日在立法院發生激烈爭執,兼任民進黨主席的總統蔡英文1...       政治   \n",
       "\n",
       "   company_id reporter   timestamp                      title  url_pattern  \\\n",
       "0           3      陶本和  1634110500  蔡英文發聲挺蘇貞昌 批鄭麗文情緒性發言對當事人不公      2100273   \n",
       "\n",
       "                                               label  annotator  \\\n",
       "0  [{\"start\": 0, \"end\": 142, \"text\": \"針對行政院長蘇貞昌、國...          1   \n",
       "\n",
       "   annotation_id                   created_at                   updated_at  \\\n",
       "0             37  2022-02-03T14:55:55.310663Z  2022-02-03T15:02:18.598120Z   \n",
       "\n",
       "   lead_time                                      article_coref  \\\n",
       "0    518.272  針對行政院長蘇貞昌、國民黨立委鄭麗文12日在立法院發生激烈爭執,兼任民進黨主席的總統蔡英文1...   \n",
       "\n",
       "                                         people_name  \\\n",
       "0  ['蔡英文', '行政院長', '鄭麗文', '民進黨', '蘇貞昌', '台灣人民', '...   \n",
       "\n",
       "                                                 ner  \n",
       "0  ['蔡英文', '行政院長', '12日', '鄭麗文', '台灣', '民進黨', '蘇貞...  "
      ]
     },
     "execution_count": 3,
     "metadata": {},
     "output_type": "execute_result"
    }
   ],
   "source": [
    "news_df.head(1)"
   ]
  },
  {
   "cell_type": "markdown",
   "metadata": {
    "id": "pv6hXUz-EjfT"
   },
   "source": [
    "#### 輸入 ckip 帳號密碼"
   ]
  },
  {
   "cell_type": "code",
   "execution_count": 4,
   "metadata": {
    "executionInfo": {
     "elapsed": 261,
     "status": "ok",
     "timestamp": 1646481252978,
     "user": {
      "displayName": "F74082141王 浩",
      "photoUrl": "https://lh3.googleusercontent.com/a-/AOh14GhCsFx3dQEzYAcFs18YPMtij1s5AlclOQnHVzCW=s64",
      "userId": "09796250435249092023"
     },
     "user_tz": -480
    },
    "id": "C0ohCMj1FI4z"
   },
   "outputs": [],
   "source": [
    "pipeline = CkipPipeline(opts={'con_parser': {'username': '', 'password': ''}})\n",
    "coref_pipeline = CkipCorefPipeline(opts={'con_parser': {'username': '', 'password': ''}})"
   ]
  },
  {
   "cell_type": "markdown",
   "metadata": {
    "id": "Ygc3MbR0g0_y"
   },
   "source": [
    "## 3. 產生 VE2 agent pair\n"
   ]
  },
  {
   "cell_type": "markdown",
   "metadata": {
    "id": "J0V-w1emiql3"
   },
   "source": [
    "### function 定義"
   ]
  },
  {
   "cell_type": "code",
   "execution_count": 5,
   "metadata": {
    "executionInfo": {
     "elapsed": 5,
     "status": "ok",
     "timestamp": 1646481265832,
     "user": {
      "displayName": "F74082141王 浩",
      "photoUrl": "https://lh3.googleusercontent.com/a-/AOh14GhCsFx3dQEzYAcFs18YPMtij1s5AlclOQnHVzCW=s64",
      "userId": "09796250435249092023"
     },
     "user_tz": -480
    },
    "id": "1RYjg5RFOW6i"
   },
   "outputs": [],
   "source": [
    "def make_conparse(an_article, pipeline):\n",
    "    doc = CkipDocument(raw=an_article)\n",
    "    pipeline.get_conparse(doc)\n",
    "    return doc.conparse[0]"
   ]
  },
  {
   "cell_type": "code",
   "execution_count": 6,
   "metadata": {
    "executionInfo": {
     "elapsed": 6,
     "status": "ok",
     "timestamp": 1646481265833,
     "user": {
      "displayName": "F74082141王 浩",
      "photoUrl": "https://lh3.googleusercontent.com/a-/AOh14GhCsFx3dQEzYAcFs18YPMtij1s5AlclOQnHVzCW=s64",
      "userId": "09796250435249092023"
     },
     "user_tz": -480
    },
    "id": "mepwztP6OW6k"
   },
   "outputs": [],
   "source": [
    "def find_spice_index(an_article):\n",
    "    return [i for i, char in enumerate(an_article) if char == ' ']"
   ]
  },
  {
   "cell_type": "code",
   "execution_count": 7,
   "metadata": {},
   "outputs": [],
   "source": [
    "def make_agent_VE2_label(old_article, pipeline):\n",
    "\n",
    "  spice_index_list = find_spice_index(old_article)\n",
    "  conparse = make_conparse(old_article, pipeline)\n",
    "  # print_tree_pic(old_article)\n",
    "\n",
    "  article = \"\"\n",
    "  start = 0\n",
    "  end = 0\n",
    "  # every sentence in article have 4 kinds VE2 and agent pairs\n",
    "  one_to_one_pair = []\n",
    "  # iterate the clause\n",
    "  for ParseClause in conparse:\n",
    "    sentence = \"\"\n",
    "    if ParseClause.clause != '':\n",
    "      VE2_count = 0\n",
    "      agent_count = 0\n",
    "      VE2_agent_clause_label = []\n",
    "      tree = ParseClause.to_tree()\n",
    "      # iterate every node in sentence to find VE2 and agent\n",
    "      for node in tree.all_nodes_itr():\n",
    "        node_dict = node.to_dict()\n",
    "        node_data = node_dict['data']\n",
    "\n",
    "        node_id = node_dict['id']\n",
    "        role = node_data['role']\n",
    "        pos = node_data['pos']\n",
    "        word = node_data['word']\n",
    "        # change index when switch words\n",
    "        if word != None:\n",
    "          sentence += word\n",
    "          start = end\n",
    "          end = start + len(word)\n",
    "        else:\n",
    "          pass\n",
    "        # find VE2\n",
    "        if 'VE2' in pos:\n",
    "          label = {'start': start, 'end': end, 'text': word, 'labels': ['VE2']}\n",
    "\n",
    "          VE2_agent_clause_label.append(label.copy())\n",
    "          VE2_count += 1\n",
    "        # find agent\n",
    "        if role != None:\n",
    "          if 'agent' in role:\n",
    "            if word == None:\n",
    "              temp_word = \"\"\n",
    "              sub_tree = tree.subtree(node_id)\n",
    "              sub_node_list = sub_tree.all_nodes()\n",
    "              sub_node_list.sort(key=lambda x: x.to_dict()['id'])\n",
    "              for sub_node in sub_node_list:\n",
    "                sub_node_dict = sub_node.to_dict()\n",
    "                if sub_node_dict['data']['word'] != None:\n",
    "                  temp_word += sub_node_dict['data']['word']\n",
    "              temp_start = end\n",
    "              temp_end = end + len(temp_word)\n",
    "            else:\n",
    "              temp_word = word\n",
    "              temp_start = start\n",
    "              temp_end = end\n",
    "            label = {'start': temp_start, 'end': temp_end, 'text': temp_word, 'labels': ['agent']}\n",
    "            VE2_agent_clause_label.append(label.copy())\n",
    "            agent_count += 1\n",
    "\n",
    "    # change index when switch sentence\n",
    "    sentence += ParseClause.delim\n",
    "    # print(ParseClause.delim)\n",
    "    start = end\n",
    "    end = start + len(ParseClause.delim)\n",
    "    article += sentence\n",
    "\n",
    "    # check this sentence's VE2_agent pair belong to which kind\n",
    "    if VE2_count == 1 and agent_count == 1:\n",
    "      one_to_one_pair.append(VE2_agent_clause_label.copy())\n",
    "\n",
    "  # change index when article have space\n",
    "  for space_index in spice_index_list:\n",
    "    article = article[:space_index] + \" \" + article[space_index:]\n",
    "    for one_to_one_sentence_object in one_to_one_pair:\n",
    "      for one_to_one_object in one_to_one_sentence_object:\n",
    "        if one_to_one_object['start'] >= space_index:\n",
    "          one_to_one_object['start'] += 1\n",
    "          one_to_one_object['end'] += 1        \n",
    "    \n",
    "  return one_to_one_pair"
   ]
  },
  {
   "cell_type": "markdown",
   "metadata": {},
   "source": [
    "## 6. 開始實作"
   ]
  },
  {
   "cell_type": "markdown",
   "metadata": {},
   "source": [
    "### 3."
   ]
  },
  {
   "cell_type": "code",
   "execution_count": 8,
   "metadata": {},
   "outputs": [],
   "source": [
    "article_list = news_df['article_coref'].tolist()"
   ]
  },
  {
   "cell_type": "code",
   "execution_count": 9,
   "metadata": {},
   "outputs": [
    {
     "name": "stderr",
     "output_type": "stream",
     "text": [
      "  0%|          | 0/100 [00:00<?, ?it/s]C:\\Users\\User\\AppData\\Local\\Programs\\Python\\Python38\\lib\\site-packages\\tensorflow\\python\\keras\\layers\\legacy_rnn\\rnn_cell_impl.py:909: UserWarning: `tf.nn.rnn_cell.LSTMCell` is deprecated and will be removed in a future version. This class is equivalent as `tf.keras.layers.LSTMCell`, and will be replaced by that in Tensorflow 2.0.\n",
      "  warnings.warn(\"`tf.nn.rnn_cell.LSTMCell` is deprecated and will be \"\n",
      "C:\\Users\\User\\AppData\\Local\\Programs\\Python\\Python38\\lib\\site-packages\\tensorflow\\python\\keras\\engine\\base_layer_v1.py:1700: UserWarning: `layer.add_variable` is deprecated and will be removed in a future version. Please use `layer.add_weight` method instead.\n",
      "  warnings.warn('`layer.add_variable` is deprecated and '\n",
      "C:\\Users\\User\\AppData\\Local\\Temp/ipykernel_16856/3628932566.py:8: SettingWithCopyWarning: \n",
      "A value is trying to be set on a copy of a slice from a DataFrame\n",
      "\n",
      "See the caveats in the documentation: https://pandas.pydata.org/pandas-docs/stable/user_guide/indexing.html#returning-a-view-versus-a-copy\n",
      "  news_df['one_to_one_pair'][i] = make_agent_VE2_label(article_list[i], pipeline)\n",
      "C:\\Users\\User\\AppData\\Local\\Temp/ipykernel_16856/3628932566.py:13: SettingWithCopyWarning: \n",
      "A value is trying to be set on a copy of a slice from a DataFrame\n",
      "\n",
      "See the caveats in the documentation: https://pandas.pydata.org/pandas-docs/stable/user_guide/indexing.html#returning-a-view-versus-a-copy\n",
      "  news_df['one_to_one_pair_count'][i] = len(news_df['one_to_one_pair'][i])\n",
      "  5%|▌         | 5/100 [53:02<16:47:49, 636.52s/it]\n"
     ]
    }
   ],
   "source": [
    "news_df['one_to_one_pair'] = \"\"\n",
    "news_df['one_to_one_pair_count'] = 0\n",
    "\n",
    "for i in trange(len(news_df)):\n",
    "    if i == 5:\n",
    "        break\n",
    "    try:\n",
    "        news_df['one_to_one_pair'][i] = make_agent_VE2_label(article_list[i], pipeline)\n",
    "    except:\n",
    "        print('function return error in' + str(i))\n",
    "        continue\n",
    "    try:\n",
    "        news_df['one_to_one_pair_count'][i] = len(news_df['one_to_one_pair'][i])\n",
    "    except:\n",
    "        print('one_to_one_pair_count error in' + str(i))\n",
    "        continue\n",
    "    "
   ]
  },
  {
   "cell_type": "code",
   "execution_count": 11,
   "metadata": {},
   "outputs": [
    {
     "data": {
      "text/html": [
       "<div>\n",
       "<style scoped>\n",
       "    .dataframe tbody tr th:only-of-type {\n",
       "        vertical-align: middle;\n",
       "    }\n",
       "\n",
       "    .dataframe tbody tr th {\n",
       "        vertical-align: top;\n",
       "    }\n",
       "\n",
       "    .dataframe thead th {\n",
       "        text-align: right;\n",
       "    }\n",
       "</style>\n",
       "<table border=\"1\" class=\"dataframe\">\n",
       "  <thead>\n",
       "    <tr style=\"text-align: right;\">\n",
       "      <th></th>\n",
       "      <th>id</th>\n",
       "      <th>article</th>\n",
       "      <th>category</th>\n",
       "      <th>company_id</th>\n",
       "      <th>reporter</th>\n",
       "      <th>timestamp</th>\n",
       "      <th>title</th>\n",
       "      <th>url_pattern</th>\n",
       "      <th>label</th>\n",
       "      <th>annotator</th>\n",
       "      <th>annotation_id</th>\n",
       "      <th>created_at</th>\n",
       "      <th>updated_at</th>\n",
       "      <th>lead_time</th>\n",
       "      <th>article_coref</th>\n",
       "      <th>people_name</th>\n",
       "      <th>ner</th>\n",
       "      <th>one_to_one_pair</th>\n",
       "      <th>one_to_one_pair_count</th>\n",
       "    </tr>\n",
       "  </thead>\n",
       "  <tbody>\n",
       "    <tr>\n",
       "      <th>0</th>\n",
       "      <td>883</td>\n",
       "      <td>針對行政院長蘇貞昌、國民黨立委鄭麗文12日在立法院發生激烈爭執,兼任民進黨主席的總統蔡英文1...</td>\n",
       "      <td>政治</td>\n",
       "      <td>3</td>\n",
       "      <td>陶本和</td>\n",
       "      <td>1634110500</td>\n",
       "      <td>蔡英文發聲挺蘇貞昌 批鄭麗文情緒性發言對當事人不公</td>\n",
       "      <td>2100273</td>\n",
       "      <td>[{\"start\": 0, \"end\": 142, \"text\": \"針對行政院長蘇貞昌、國...</td>\n",
       "      <td>1</td>\n",
       "      <td>37</td>\n",
       "      <td>2022-02-03T14:55:55.310663Z</td>\n",
       "      <td>2022-02-03T15:02:18.598120Z</td>\n",
       "      <td>518.272</td>\n",
       "      <td>針對行政院長蘇貞昌、國民黨立委鄭麗文12日在立法院發生激烈爭執,兼任民進黨主席的總統蔡英文1...</td>\n",
       "      <td>['蔡英文', '行政院長', '鄭麗文', '民進黨', '蘇貞昌', '台灣人民', '...</td>\n",
       "      <td>['蔡英文', '行政院長', '12日', '鄭麗文', '台灣', '民進黨', '蘇貞...</td>\n",
       "      <td>[[{'start': 134, 'end': 138, 'text': '台灣人民', '...</td>\n",
       "      <td>9</td>\n",
       "    </tr>\n",
       "    <tr>\n",
       "      <th>1</th>\n",
       "      <td>862</td>\n",
       "      <td>行政院長蘇貞昌12日在立法院總質詢時,怒斥國民黨立委鄭麗文「袂見笑」、「當時還要拜託我去幫你...</td>\n",
       "      <td>政治</td>\n",
       "      <td>3</td>\n",
       "      <td>呂晏慈</td>\n",
       "      <td>1634092560</td>\n",
       "      <td>蘇貞昌酸鄭麗文「民進黨叛徒」 他反譏:蔡英文也當國民黨閣員</td>\n",
       "      <td>2100056</td>\n",
       "      <td>[{\"start\": 0, \"end\": 51, \"text\": \"行政院長蘇貞昌12日在立...</td>\n",
       "      <td>1</td>\n",
       "      <td>16</td>\n",
       "      <td>2022-02-03T12:47:32.966394Z</td>\n",
       "      <td>2022-02-03T12:47:43.626597Z</td>\n",
       "      <td>30432.838</td>\n",
       "      <td>行政院長蘇貞昌12日在立法院總質詢時,怒斥國民黨立委鄭麗文「袂見笑」、「當時還要拜託我去幫你...</td>\n",
       "      <td>['袂見', '蘇貞昌', '民進黨', '鄭麗文', '李德維', '陳明文', '國民黨...</td>\n",
       "      <td>['袂見', '蘇貞昌', '蘇', '費鴻泰酸', '蘇貞昌', '鄭先', '民進黨',...</td>\n",
       "      <td>[[{'start': 86, 'end': 94, 'text': '黨團總召費鴻泰酸',...</td>\n",
       "      <td>7</td>\n",
       "    </tr>\n",
       "    <tr>\n",
       "      <th>2</th>\n",
       "      <td>854</td>\n",
       "      <td>台灣基進立委陳柏惟遭罷免團體掛看板質疑「反對採購疫苗」,立法院副院長蔡其昌4日反駁,陳柏惟反...</td>\n",
       "      <td>政治</td>\n",
       "      <td>3</td>\n",
       "      <td>呂晏慈</td>\n",
       "      <td>1634090220</td>\n",
       "      <td>蔡其昌質疑「想買中國科興疫苗」 國民黨團今按鈴控告妨害名譽</td>\n",
       "      <td>2100001</td>\n",
       "      <td>[{\"start\": 0, \"end\": 27, \"text\": \"台灣基進立委陳柏惟遭罷免...</td>\n",
       "      <td>1</td>\n",
       "      <td>8</td>\n",
       "      <td>2022-02-03T05:22:16.944255Z</td>\n",
       "      <td>2022-02-03T06:27:27.039925Z</td>\n",
       "      <td>7616.256</td>\n",
       "      <td>台灣基進立委陳柏惟遭罷免團體掛看板質疑「反對採購疫苗」,立法院副院長蔡其昌4日反駁,陳柏惟反...</td>\n",
       "      <td>['國民黨團', 'BNT', '蔡其昌', '中國科興', '陳柏惟', '莫德納', '...</td>\n",
       "      <td>['上午', '國民黨團', '4日', '中國', 'BNT', '蔡其昌', '國民黨團...</td>\n",
       "      <td>[[{'start': 0, 'end': 9, 'text': '台灣基進立委陳柏惟', ...</td>\n",
       "      <td>3</td>\n",
       "    </tr>\n",
       "    <tr>\n",
       "      <th>3</th>\n",
       "      <td>953</td>\n",
       "      <td>實況主丁特日前因質疑「天堂M」遊戲道具製作機率公告不實,引起各界關注。民眾黨立委高虹安14日...</td>\n",
       "      <td>政治</td>\n",
       "      <td>3</td>\n",
       "      <td>張鈞量</td>\n",
       "      <td>1634184240</td>\n",
       "      <td>丁特控「天堂M」製作機率造假 高虹安揪朝野立委推「轉蛋法」修法</td>\n",
       "      <td>2101034</td>\n",
       "      <td>[{\"start\": 0, \"end\": 35, \"text\": \"實況主丁特日前因質疑「天...</td>\n",
       "      <td>1</td>\n",
       "      <td>107</td>\n",
       "      <td>2022-02-04T13:48:13.063893Z</td>\n",
       "      <td>2022-02-04T13:48:13.063922Z</td>\n",
       "      <td>263.836</td>\n",
       "      <td>實況主丁特日前因質疑「天堂M」遊戲道具製作機率公告不實,引起各界關注。民眾黨立委高虹安14日...</td>\n",
       "      <td>['時代力量', '高虹安', '虹安', '紫布', 'Microsoft', '洪孟楷'...</td>\n",
       "      <td>['時代力量', '高虹安', '虹安', '2018年', '高虹安', '上百萬', '...</td>\n",
       "      <td>[[{'start': 15, 'end': 19, 'text': '遊戲道具', 'la...</td>\n",
       "      <td>9</td>\n",
       "    </tr>\n",
       "    <tr>\n",
       "      <th>4</th>\n",
       "      <td>952</td>\n",
       "      <td>國防部長邱國正14日證實,長年從事後備動員業務規劃的國防部全民防衛動員綜合作業室主任韓岡明,...</td>\n",
       "      <td>政治</td>\n",
       "      <td>3</td>\n",
       "      <td>林銘翰</td>\n",
       "      <td>1634182920</td>\n",
       "      <td>全民防衛動員署明年成立 全動室主任韓岡明屆齡退休</td>\n",
       "      <td>2101023</td>\n",
       "      <td>[{\"start\": 0, \"end\": 106, \"text\": \"國防部長邱國正14日證...</td>\n",
       "      <td>1</td>\n",
       "      <td>106</td>\n",
       "      <td>2022-02-04T13:43:48.981022Z</td>\n",
       "      <td>2022-02-04T13:43:48.981050Z</td>\n",
       "      <td>174.457</td>\n",
       "      <td>國防部長邱國正14日證實,長年從事後備動員業務規劃的國防部全民防衛動員綜合作業室主任韓岡明,...</td>\n",
       "      <td>['全民防衛動員署', '陳以信', '國防部', '邱國正', '韓岡明', '國民黨',...</td>\n",
       "      <td>['全民防衛動員署', '陳以信', '一半', '國防委員會', '國防部', '邱國正'...</td>\n",
       "      <td>[[{'start': 0, 'end': 7, 'text': '國防部長邱國正', 'l...</td>\n",
       "      <td>8</td>\n",
       "    </tr>\n",
       "  </tbody>\n",
       "</table>\n",
       "</div>"
      ],
      "text/plain": [
       "    id                                            article category  \\\n",
       "0  883  針對行政院長蘇貞昌、國民黨立委鄭麗文12日在立法院發生激烈爭執,兼任民進黨主席的總統蔡英文1...       政治   \n",
       "1  862  行政院長蘇貞昌12日在立法院總質詢時,怒斥國民黨立委鄭麗文「袂見笑」、「當時還要拜託我去幫你...       政治   \n",
       "2  854  台灣基進立委陳柏惟遭罷免團體掛看板質疑「反對採購疫苗」,立法院副院長蔡其昌4日反駁,陳柏惟反...       政治   \n",
       "3  953  實況主丁特日前因質疑「天堂M」遊戲道具製作機率公告不實,引起各界關注。民眾黨立委高虹安14日...       政治   \n",
       "4  952  國防部長邱國正14日證實,長年從事後備動員業務規劃的國防部全民防衛動員綜合作業室主任韓岡明,...       政治   \n",
       "\n",
       "   company_id reporter   timestamp                            title  \\\n",
       "0           3      陶本和  1634110500        蔡英文發聲挺蘇貞昌 批鄭麗文情緒性發言對當事人不公   \n",
       "1           3      呂晏慈  1634092560    蘇貞昌酸鄭麗文「民進黨叛徒」 他反譏:蔡英文也當國民黨閣員   \n",
       "2           3      呂晏慈  1634090220    蔡其昌質疑「想買中國科興疫苗」 國民黨團今按鈴控告妨害名譽   \n",
       "3           3      張鈞量  1634184240  丁特控「天堂M」製作機率造假 高虹安揪朝野立委推「轉蛋法」修法   \n",
       "4           3      林銘翰  1634182920         全民防衛動員署明年成立 全動室主任韓岡明屆齡退休   \n",
       "\n",
       "   url_pattern                                              label  annotator  \\\n",
       "0      2100273  [{\"start\": 0, \"end\": 142, \"text\": \"針對行政院長蘇貞昌、國...          1   \n",
       "1      2100056  [{\"start\": 0, \"end\": 51, \"text\": \"行政院長蘇貞昌12日在立...          1   \n",
       "2      2100001  [{\"start\": 0, \"end\": 27, \"text\": \"台灣基進立委陳柏惟遭罷免...          1   \n",
       "3      2101034  [{\"start\": 0, \"end\": 35, \"text\": \"實況主丁特日前因質疑「天...          1   \n",
       "4      2101023  [{\"start\": 0, \"end\": 106, \"text\": \"國防部長邱國正14日證...          1   \n",
       "\n",
       "   annotation_id                   created_at                   updated_at  \\\n",
       "0             37  2022-02-03T14:55:55.310663Z  2022-02-03T15:02:18.598120Z   \n",
       "1             16  2022-02-03T12:47:32.966394Z  2022-02-03T12:47:43.626597Z   \n",
       "2              8  2022-02-03T05:22:16.944255Z  2022-02-03T06:27:27.039925Z   \n",
       "3            107  2022-02-04T13:48:13.063893Z  2022-02-04T13:48:13.063922Z   \n",
       "4            106  2022-02-04T13:43:48.981022Z  2022-02-04T13:43:48.981050Z   \n",
       "\n",
       "   lead_time                                      article_coref  \\\n",
       "0    518.272  針對行政院長蘇貞昌、國民黨立委鄭麗文12日在立法院發生激烈爭執,兼任民進黨主席的總統蔡英文1...   \n",
       "1  30432.838  行政院長蘇貞昌12日在立法院總質詢時,怒斥國民黨立委鄭麗文「袂見笑」、「當時還要拜託我去幫你...   \n",
       "2   7616.256  台灣基進立委陳柏惟遭罷免團體掛看板質疑「反對採購疫苗」,立法院副院長蔡其昌4日反駁,陳柏惟反...   \n",
       "3    263.836  實況主丁特日前因質疑「天堂M」遊戲道具製作機率公告不實,引起各界關注。民眾黨立委高虹安14日...   \n",
       "4    174.457  國防部長邱國正14日證實,長年從事後備動員業務規劃的國防部全民防衛動員綜合作業室主任韓岡明,...   \n",
       "\n",
       "                                         people_name  \\\n",
       "0  ['蔡英文', '行政院長', '鄭麗文', '民進黨', '蘇貞昌', '台灣人民', '...   \n",
       "1  ['袂見', '蘇貞昌', '民進黨', '鄭麗文', '李德維', '陳明文', '國民黨...   \n",
       "2  ['國民黨團', 'BNT', '蔡其昌', '中國科興', '陳柏惟', '莫德納', '...   \n",
       "3  ['時代力量', '高虹安', '虹安', '紫布', 'Microsoft', '洪孟楷'...   \n",
       "4  ['全民防衛動員署', '陳以信', '國防部', '邱國正', '韓岡明', '國民黨',...   \n",
       "\n",
       "                                                 ner  \\\n",
       "0  ['蔡英文', '行政院長', '12日', '鄭麗文', '台灣', '民進黨', '蘇貞...   \n",
       "1  ['袂見', '蘇貞昌', '蘇', '費鴻泰酸', '蘇貞昌', '鄭先', '民進黨',...   \n",
       "2  ['上午', '國民黨團', '4日', '中國', 'BNT', '蔡其昌', '國民黨團...   \n",
       "3  ['時代力量', '高虹安', '虹安', '2018年', '高虹安', '上百萬', '...   \n",
       "4  ['全民防衛動員署', '陳以信', '一半', '國防委員會', '國防部', '邱國正'...   \n",
       "\n",
       "                                     one_to_one_pair  one_to_one_pair_count  \n",
       "0  [[{'start': 134, 'end': 138, 'text': '台灣人民', '...                      9  \n",
       "1  [[{'start': 86, 'end': 94, 'text': '黨團總召費鴻泰酸',...                      7  \n",
       "2  [[{'start': 0, 'end': 9, 'text': '台灣基進立委陳柏惟', ...                      3  \n",
       "3  [[{'start': 15, 'end': 19, 'text': '遊戲道具', 'la...                      9  \n",
       "4  [[{'start': 0, 'end': 7, 'text': '國防部長邱國正', 'l...                      8  "
      ]
     },
     "execution_count": 11,
     "metadata": {},
     "output_type": "execute_result"
    }
   ],
   "source": [
    "news_df.head(5)"
   ]
  },
  {
   "cell_type": "code",
   "execution_count": 12,
   "metadata": {},
   "outputs": [],
   "source": [
    "news_df.to_csv('./v1_Total_Opinion.csv', index=False)"
   ]
  }
 ],
 "metadata": {
  "interpreter": {
   "hash": "5c0372ed38b372118c24adb00d45654d76c8d10261533c5724e3f5fc1d75489a"
  },
  "kernelspec": {
   "display_name": "Python 3.8.8 64-bit",
   "language": "python",
   "name": "python3"
  },
  "language_info": {
   "codemirror_mode": {
    "name": "ipython",
    "version": 3
   },
   "file_extension": ".py",
   "mimetype": "text/x-python",
   "name": "python",
   "nbconvert_exporter": "python",
   "pygments_lexer": "ipython3",
   "version": "3.8.8"
  },
  "orig_nbformat": 4
 },
 "nbformat": 4,
 "nbformat_minor": 2
}
